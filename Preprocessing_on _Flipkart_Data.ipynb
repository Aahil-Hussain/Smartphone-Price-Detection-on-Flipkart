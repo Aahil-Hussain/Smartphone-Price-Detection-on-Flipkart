{
 "cells": [
  {
   "cell_type": "markdown",
   "id": "cee8e219",
   "metadata": {},
   "source": [
    "# Import Important Libraries"
   ]
  },
  {
   "cell_type": "markdown",
   "id": "4b57e3c9",
   "metadata": {},
   "source": [
    "# Preprocessing"
   ]
  },
  {
   "cell_type": "code",
   "execution_count": 1,
   "id": "73e99778",
   "metadata": {},
   "outputs": [],
   "source": [
    "import pandas as pd\n",
    "import numpy as np\n",
    "import matplotlib\n",
    "%matplotlib inline\n",
    "import matplotlib.pyplot as plt\n",
    "import seaborn as sns\n",
    "\n",
    "# ignore the warnings \n",
    "import warnings\n",
    "warnings.filterwarnings(\"ignore\")"
   ]
  },
  {
   "cell_type": "code",
   "execution_count": 2,
   "id": "48f81038",
   "metadata": {},
   "outputs": [
    {
     "data": {
      "text/html": [
       "<div>\n",
       "<style scoped>\n",
       "    .dataframe tbody tr th:only-of-type {\n",
       "        vertical-align: middle;\n",
       "    }\n",
       "\n",
       "    .dataframe tbody tr th {\n",
       "        vertical-align: top;\n",
       "    }\n",
       "\n",
       "    .dataframe thead th {\n",
       "        text-align: right;\n",
       "    }\n",
       "</style>\n",
       "<table border=\"1\" class=\"dataframe\">\n",
       "  <thead>\n",
       "    <tr style=\"text-align: right;\">\n",
       "      <th></th>\n",
       "      <th>Model</th>\n",
       "      <th>Stars</th>\n",
       "      <th>Num_of_Ratings</th>\n",
       "      <th>Reviews</th>\n",
       "      <th>Ram</th>\n",
       "      <th>Storage</th>\n",
       "      <th>Expandable</th>\n",
       "      <th>Display</th>\n",
       "      <th>Camera</th>\n",
       "      <th>Battery</th>\n",
       "      <th>Processor</th>\n",
       "      <th>Warranty</th>\n",
       "      <th>Price</th>\n",
       "    </tr>\n",
       "  </thead>\n",
       "  <tbody>\n",
       "    <tr>\n",
       "      <th>0</th>\n",
       "      <td>SAMSUNG Galaxy F13 (Waterfall Blue, 64 GB)</td>\n",
       "      <td>4.4</td>\n",
       "      <td>1,26,250 Ratings</td>\n",
       "      <td>7,344 Reviews</td>\n",
       "      <td>4 GB RAM</td>\n",
       "      <td>64 GB ROM</td>\n",
       "      <td>Expandable Upto 1 TB</td>\n",
       "      <td>16.76 cm (6.6 inch) Full HD+ Display</td>\n",
       "      <td>50MP + 5MP + 2MP | 8MP Front Camera</td>\n",
       "      <td>6000 mAh Lithium Ion Battery</td>\n",
       "      <td>Exynos 850 Processor</td>\n",
       "      <td>NaN</td>\n",
       "      <td>₹9,699</td>\n",
       "    </tr>\n",
       "    <tr>\n",
       "      <th>1</th>\n",
       "      <td>POCO C50 (Country Green, 32 GB)</td>\n",
       "      <td>4.4</td>\n",
       "      <td>3,204 Ratings</td>\n",
       "      <td>151 Reviews</td>\n",
       "      <td>2 GB RAM</td>\n",
       "      <td>32 GB ROM</td>\n",
       "      <td>Expandable Upto 512 GB</td>\n",
       "      <td>16.56 cm (6.52 inch) HD+ Display</td>\n",
       "      <td>8MP Dual Camera | 5MP Front Camera</td>\n",
       "      <td>5000 mAh Lithium Polymer Battery</td>\n",
       "      <td>Mediatek Helio A22 Processor, Upto 2.0 GHz Pro...</td>\n",
       "      <td>NaN</td>\n",
       "      <td>₹5,749</td>\n",
       "    </tr>\n",
       "    <tr>\n",
       "      <th>2</th>\n",
       "      <td>POCO C50 (Royal Blue, 32 GB)</td>\n",
       "      <td>4.4</td>\n",
       "      <td>3,204 Ratings</td>\n",
       "      <td>151 Reviews</td>\n",
       "      <td>2 GB RAM</td>\n",
       "      <td>32 GB ROM</td>\n",
       "      <td>Expandable Upto 512 GB</td>\n",
       "      <td>16.56 cm (6.52 inch) HD+ Display</td>\n",
       "      <td>8MP Dual Camera | 5MP Front Camera</td>\n",
       "      <td>5000 mAh Lithium Polymer Battery</td>\n",
       "      <td>Mediatek Helio A22 Processor, Upto 2.0 GHz Pro...</td>\n",
       "      <td>NaN</td>\n",
       "      <td>₹5,749</td>\n",
       "    </tr>\n",
       "    <tr>\n",
       "      <th>3</th>\n",
       "      <td>REDMI 10 (Caribbean Green, 64 GB)</td>\n",
       "      <td>4.3</td>\n",
       "      <td>1,93,536 Ratings</td>\n",
       "      <td>12,428 Reviews</td>\n",
       "      <td>4 GB RAM</td>\n",
       "      <td>64 GB ROM</td>\n",
       "      <td>Expandable Upto 1 TB</td>\n",
       "      <td>17.02 cm (6.7 inch) HD+ Display</td>\n",
       "      <td>50MP + 2MP | 5MP Front Camera</td>\n",
       "      <td>6000 mAh Lithium Polymer Battery</td>\n",
       "      <td>Qualcomm Snapdragon 680 Processor</td>\n",
       "      <td>NaN</td>\n",
       "      <td>₹9,299</td>\n",
       "    </tr>\n",
       "    <tr>\n",
       "      <th>4</th>\n",
       "      <td>REDMI 10 (Pacific Blue, 64 GB)</td>\n",
       "      <td>4.3</td>\n",
       "      <td>1,93,536 Ratings</td>\n",
       "      <td>12,428 Reviews</td>\n",
       "      <td>4 GB RAM</td>\n",
       "      <td>64 GB ROM</td>\n",
       "      <td>Expandable Upto 1 TB</td>\n",
       "      <td>17.02 cm (6.7 inch) HD+ Display</td>\n",
       "      <td>50MP + 2MP | 5MP Front Camera</td>\n",
       "      <td>6000 mAh Lithium Polymer Battery</td>\n",
       "      <td>Qualcomm Snapdragon 680 Processor</td>\n",
       "      <td>NaN</td>\n",
       "      <td>₹9,299</td>\n",
       "    </tr>\n",
       "  </tbody>\n",
       "</table>\n",
       "</div>"
      ],
      "text/plain": [
       "                                        Model  Stars    Num_of_Ratings  \\\n",
       "0  SAMSUNG Galaxy F13 (Waterfall Blue, 64 GB)    4.4  1,26,250 Ratings   \n",
       "1             POCO C50 (Country Green, 32 GB)    4.4     3,204 Ratings   \n",
       "2                POCO C50 (Royal Blue, 32 GB)    4.4     3,204 Ratings   \n",
       "3           REDMI 10 (Caribbean Green, 64 GB)    4.3  1,93,536 Ratings   \n",
       "4              REDMI 10 (Pacific Blue, 64 GB)    4.3  1,93,536 Ratings   \n",
       "\n",
       "          Reviews        Ram    Storage              Expandable  \\\n",
       "0   7,344 Reviews  4 GB RAM   64 GB ROM    Expandable Upto 1 TB   \n",
       "1     151 Reviews  2 GB RAM   32 GB ROM  Expandable Upto 512 GB   \n",
       "2     151 Reviews  2 GB RAM   32 GB ROM  Expandable Upto 512 GB   \n",
       "3  12,428 Reviews  4 GB RAM   64 GB ROM    Expandable Upto 1 TB   \n",
       "4  12,428 Reviews  4 GB RAM   64 GB ROM    Expandable Upto 1 TB   \n",
       "\n",
       "                                Display                               Camera  \\\n",
       "0  16.76 cm (6.6 inch) Full HD+ Display  50MP + 5MP + 2MP | 8MP Front Camera   \n",
       "1      16.56 cm (6.52 inch) HD+ Display   8MP Dual Camera | 5MP Front Camera   \n",
       "2      16.56 cm (6.52 inch) HD+ Display   8MP Dual Camera | 5MP Front Camera   \n",
       "3       17.02 cm (6.7 inch) HD+ Display        50MP + 2MP | 5MP Front Camera   \n",
       "4       17.02 cm (6.7 inch) HD+ Display        50MP + 2MP | 5MP Front Camera   \n",
       "\n",
       "                            Battery  \\\n",
       "0      6000 mAh Lithium Ion Battery   \n",
       "1  5000 mAh Lithium Polymer Battery   \n",
       "2  5000 mAh Lithium Polymer Battery   \n",
       "3  6000 mAh Lithium Polymer Battery   \n",
       "4  6000 mAh Lithium Polymer Battery   \n",
       "\n",
       "                                           Processor  Warranty   Price  \n",
       "0                               Exynos 850 Processor       NaN  ₹9,699  \n",
       "1  Mediatek Helio A22 Processor, Upto 2.0 GHz Pro...       NaN  ₹5,749  \n",
       "2  Mediatek Helio A22 Processor, Upto 2.0 GHz Pro...       NaN  ₹5,749  \n",
       "3                  Qualcomm Snapdragon 680 Processor       NaN  ₹9,299  \n",
       "4                  Qualcomm Snapdragon 680 Processor       NaN  ₹9,299  "
      ]
     },
     "execution_count": 2,
     "metadata": {},
     "output_type": "execute_result"
    }
   ],
   "source": [
    "df = pd.read_csv(r\"C:\\Users\\aahil\\OneDrive\\Desktop\\flipkart_data.csv\")\n",
    "df.head()"
   ]
  },
  {
   "cell_type": "markdown",
   "id": "2bd498a2",
   "metadata": {},
   "source": [
    "* **Data Cleaning and Exploaration**"
   ]
  },
  {
   "cell_type": "code",
   "execution_count": 3,
   "id": "811957b6",
   "metadata": {},
   "outputs": [
    {
     "data": {
      "text/plain": [
       "(787, 13)"
      ]
     },
     "execution_count": 3,
     "metadata": {},
     "output_type": "execute_result"
    }
   ],
   "source": [
    "df.shape"
   ]
  },
  {
   "cell_type": "code",
   "execution_count": 4,
   "id": "dc909265",
   "metadata": {},
   "outputs": [
    {
     "name": "stdout",
     "output_type": "stream",
     "text": [
      "<class 'pandas.core.frame.DataFrame'>\n",
      "RangeIndex: 787 entries, 0 to 786\n",
      "Data columns (total 13 columns):\n",
      " #   Column          Non-Null Count  Dtype  \n",
      "---  ------          --------------  -----  \n",
      " 0   Model           787 non-null    object \n",
      " 1   Stars           783 non-null    float64\n",
      " 2   Num_of_Ratings  783 non-null    object \n",
      " 3   Reviews         783 non-null    object \n",
      " 4   Ram             787 non-null    object \n",
      " 5   Storage         787 non-null    object \n",
      " 6   Expandable      447 non-null    object \n",
      " 7   Display         787 non-null    object \n",
      " 8   Camera          787 non-null    object \n",
      " 9   Battery         787 non-null    object \n",
      " 10  Processor       762 non-null    object \n",
      " 11  Warranty        0 non-null      float64\n",
      " 12  Price           787 non-null    object \n",
      "dtypes: float64(2), object(11)\n",
      "memory usage: 80.1+ KB\n"
     ]
    }
   ],
   "source": [
    "df.info()"
   ]
  },
  {
   "cell_type": "code",
   "execution_count": 5,
   "id": "e9af8f03",
   "metadata": {
    "scrolled": true
   },
   "outputs": [
    {
     "data": {
      "text/plain": [
       "Model               0\n",
       "Stars               4\n",
       "Num_of_Ratings      4\n",
       "Reviews             4\n",
       "Ram                 0\n",
       "Storage             0\n",
       "Expandable        340\n",
       "Display             0\n",
       "Camera              0\n",
       "Battery             0\n",
       "Processor          25\n",
       "Warranty          787\n",
       "Price               0\n",
       "dtype: int64"
      ]
     },
     "execution_count": 5,
     "metadata": {},
     "output_type": "execute_result"
    }
   ],
   "source": [
    "# Checking for null values\n",
    "df.isnull().sum()"
   ]
  },
  {
   "cell_type": "code",
   "execution_count": 6,
   "id": "d5e65f37",
   "metadata": {},
   "outputs": [
    {
     "data": {
      "text/html": [
       "<div>\n",
       "<style scoped>\n",
       "    .dataframe tbody tr th:only-of-type {\n",
       "        vertical-align: middle;\n",
       "    }\n",
       "\n",
       "    .dataframe tbody tr th {\n",
       "        vertical-align: top;\n",
       "    }\n",
       "\n",
       "    .dataframe thead th {\n",
       "        text-align: right;\n",
       "    }\n",
       "</style>\n",
       "<table border=\"1\" class=\"dataframe\">\n",
       "  <thead>\n",
       "    <tr style=\"text-align: right;\">\n",
       "      <th></th>\n",
       "      <th>count</th>\n",
       "      <th>mean</th>\n",
       "      <th>std</th>\n",
       "      <th>min</th>\n",
       "      <th>25%</th>\n",
       "      <th>50%</th>\n",
       "      <th>75%</th>\n",
       "      <th>max</th>\n",
       "    </tr>\n",
       "  </thead>\n",
       "  <tbody>\n",
       "    <tr>\n",
       "      <th>Stars</th>\n",
       "      <td>783.0</td>\n",
       "      <td>4.250192</td>\n",
       "      <td>0.219327</td>\n",
       "      <td>3.0</td>\n",
       "      <td>4.2</td>\n",
       "      <td>4.3</td>\n",
       "      <td>4.4</td>\n",
       "      <td>4.7</td>\n",
       "    </tr>\n",
       "    <tr>\n",
       "      <th>Warranty</th>\n",
       "      <td>0.0</td>\n",
       "      <td>NaN</td>\n",
       "      <td>NaN</td>\n",
       "      <td>NaN</td>\n",
       "      <td>NaN</td>\n",
       "      <td>NaN</td>\n",
       "      <td>NaN</td>\n",
       "      <td>NaN</td>\n",
       "    </tr>\n",
       "  </tbody>\n",
       "</table>\n",
       "</div>"
      ],
      "text/plain": [
       "          count      mean       std  min  25%  50%  75%  max\n",
       "Stars     783.0  4.250192  0.219327  3.0  4.2  4.3  4.4  4.7\n",
       "Warranty    0.0       NaN       NaN  NaN  NaN  NaN  NaN  NaN"
      ]
     },
     "execution_count": 6,
     "metadata": {},
     "output_type": "execute_result"
    }
   ],
   "source": [
    "# Statistical description of the Dataset\n",
    "df.describe().T"
   ]
  },
  {
   "cell_type": "markdown",
   "id": "40e72cdc",
   "metadata": {},
   "source": [
    "* **As we can see there a few missing values in the data with no data in the Warranty column. So we will eliminate the column as it will be contributing no information at all to the model**"
   ]
  },
  {
   "cell_type": "code",
   "execution_count": 7,
   "id": "a9591960",
   "metadata": {},
   "outputs": [],
   "source": [
    "df.drop(columns=[\"Warranty\"],inplace=True)"
   ]
  },
  {
   "cell_type": "code",
   "execution_count": 8,
   "id": "8a83d671",
   "metadata": {},
   "outputs": [
    {
     "data": {
      "text/html": [
       "<div>\n",
       "<style scoped>\n",
       "    .dataframe tbody tr th:only-of-type {\n",
       "        vertical-align: middle;\n",
       "    }\n",
       "\n",
       "    .dataframe tbody tr th {\n",
       "        vertical-align: top;\n",
       "    }\n",
       "\n",
       "    .dataframe thead th {\n",
       "        text-align: right;\n",
       "    }\n",
       "</style>\n",
       "<table border=\"1\" class=\"dataframe\">\n",
       "  <thead>\n",
       "    <tr style=\"text-align: right;\">\n",
       "      <th></th>\n",
       "      <th>Model</th>\n",
       "      <th>Stars</th>\n",
       "      <th>Num_of_Ratings</th>\n",
       "      <th>Reviews</th>\n",
       "      <th>Ram</th>\n",
       "      <th>Storage</th>\n",
       "      <th>Expandable</th>\n",
       "      <th>Display</th>\n",
       "      <th>Camera</th>\n",
       "      <th>Battery</th>\n",
       "      <th>Processor</th>\n",
       "      <th>Price</th>\n",
       "    </tr>\n",
       "  </thead>\n",
       "  <tbody>\n",
       "    <tr>\n",
       "      <th>0</th>\n",
       "      <td>SAMSUNG Galaxy F13 (Waterfall Blue, 64 GB)</td>\n",
       "      <td>4.4</td>\n",
       "      <td>1,26,250 Ratings</td>\n",
       "      <td>7,344 Reviews</td>\n",
       "      <td>4 GB RAM</td>\n",
       "      <td>64 GB ROM</td>\n",
       "      <td>Expandable Upto 1 TB</td>\n",
       "      <td>16.76 cm (6.6 inch) Full HD+ Display</td>\n",
       "      <td>50MP + 5MP + 2MP | 8MP Front Camera</td>\n",
       "      <td>6000 mAh Lithium Ion Battery</td>\n",
       "      <td>Exynos 850 Processor</td>\n",
       "      <td>₹9,699</td>\n",
       "    </tr>\n",
       "    <tr>\n",
       "      <th>1</th>\n",
       "      <td>POCO C50 (Country Green, 32 GB)</td>\n",
       "      <td>4.4</td>\n",
       "      <td>3,204 Ratings</td>\n",
       "      <td>151 Reviews</td>\n",
       "      <td>2 GB RAM</td>\n",
       "      <td>32 GB ROM</td>\n",
       "      <td>Expandable Upto 512 GB</td>\n",
       "      <td>16.56 cm (6.52 inch) HD+ Display</td>\n",
       "      <td>8MP Dual Camera | 5MP Front Camera</td>\n",
       "      <td>5000 mAh Lithium Polymer Battery</td>\n",
       "      <td>Mediatek Helio A22 Processor, Upto 2.0 GHz Pro...</td>\n",
       "      <td>₹5,749</td>\n",
       "    </tr>\n",
       "    <tr>\n",
       "      <th>2</th>\n",
       "      <td>POCO C50 (Royal Blue, 32 GB)</td>\n",
       "      <td>4.4</td>\n",
       "      <td>3,204 Ratings</td>\n",
       "      <td>151 Reviews</td>\n",
       "      <td>2 GB RAM</td>\n",
       "      <td>32 GB ROM</td>\n",
       "      <td>Expandable Upto 512 GB</td>\n",
       "      <td>16.56 cm (6.52 inch) HD+ Display</td>\n",
       "      <td>8MP Dual Camera | 5MP Front Camera</td>\n",
       "      <td>5000 mAh Lithium Polymer Battery</td>\n",
       "      <td>Mediatek Helio A22 Processor, Upto 2.0 GHz Pro...</td>\n",
       "      <td>₹5,749</td>\n",
       "    </tr>\n",
       "    <tr>\n",
       "      <th>3</th>\n",
       "      <td>REDMI 10 (Caribbean Green, 64 GB)</td>\n",
       "      <td>4.3</td>\n",
       "      <td>1,93,536 Ratings</td>\n",
       "      <td>12,428 Reviews</td>\n",
       "      <td>4 GB RAM</td>\n",
       "      <td>64 GB ROM</td>\n",
       "      <td>Expandable Upto 1 TB</td>\n",
       "      <td>17.02 cm (6.7 inch) HD+ Display</td>\n",
       "      <td>50MP + 2MP | 5MP Front Camera</td>\n",
       "      <td>6000 mAh Lithium Polymer Battery</td>\n",
       "      <td>Qualcomm Snapdragon 680 Processor</td>\n",
       "      <td>₹9,299</td>\n",
       "    </tr>\n",
       "    <tr>\n",
       "      <th>4</th>\n",
       "      <td>REDMI 10 (Pacific Blue, 64 GB)</td>\n",
       "      <td>4.3</td>\n",
       "      <td>1,93,536 Ratings</td>\n",
       "      <td>12,428 Reviews</td>\n",
       "      <td>4 GB RAM</td>\n",
       "      <td>64 GB ROM</td>\n",
       "      <td>Expandable Upto 1 TB</td>\n",
       "      <td>17.02 cm (6.7 inch) HD+ Display</td>\n",
       "      <td>50MP + 2MP | 5MP Front Camera</td>\n",
       "      <td>6000 mAh Lithium Polymer Battery</td>\n",
       "      <td>Qualcomm Snapdragon 680 Processor</td>\n",
       "      <td>₹9,299</td>\n",
       "    </tr>\n",
       "  </tbody>\n",
       "</table>\n",
       "</div>"
      ],
      "text/plain": [
       "                                        Model  Stars    Num_of_Ratings  \\\n",
       "0  SAMSUNG Galaxy F13 (Waterfall Blue, 64 GB)    4.4  1,26,250 Ratings   \n",
       "1             POCO C50 (Country Green, 32 GB)    4.4     3,204 Ratings   \n",
       "2                POCO C50 (Royal Blue, 32 GB)    4.4     3,204 Ratings   \n",
       "3           REDMI 10 (Caribbean Green, 64 GB)    4.3  1,93,536 Ratings   \n",
       "4              REDMI 10 (Pacific Blue, 64 GB)    4.3  1,93,536 Ratings   \n",
       "\n",
       "          Reviews        Ram    Storage              Expandable  \\\n",
       "0   7,344 Reviews  4 GB RAM   64 GB ROM    Expandable Upto 1 TB   \n",
       "1     151 Reviews  2 GB RAM   32 GB ROM  Expandable Upto 512 GB   \n",
       "2     151 Reviews  2 GB RAM   32 GB ROM  Expandable Upto 512 GB   \n",
       "3  12,428 Reviews  4 GB RAM   64 GB ROM    Expandable Upto 1 TB   \n",
       "4  12,428 Reviews  4 GB RAM   64 GB ROM    Expandable Upto 1 TB   \n",
       "\n",
       "                                Display                               Camera  \\\n",
       "0  16.76 cm (6.6 inch) Full HD+ Display  50MP + 5MP + 2MP | 8MP Front Camera   \n",
       "1      16.56 cm (6.52 inch) HD+ Display   8MP Dual Camera | 5MP Front Camera   \n",
       "2      16.56 cm (6.52 inch) HD+ Display   8MP Dual Camera | 5MP Front Camera   \n",
       "3       17.02 cm (6.7 inch) HD+ Display        50MP + 2MP | 5MP Front Camera   \n",
       "4       17.02 cm (6.7 inch) HD+ Display        50MP + 2MP | 5MP Front Camera   \n",
       "\n",
       "                            Battery  \\\n",
       "0      6000 mAh Lithium Ion Battery   \n",
       "1  5000 mAh Lithium Polymer Battery   \n",
       "2  5000 mAh Lithium Polymer Battery   \n",
       "3  6000 mAh Lithium Polymer Battery   \n",
       "4  6000 mAh Lithium Polymer Battery   \n",
       "\n",
       "                                           Processor   Price  \n",
       "0                               Exynos 850 Processor  ₹9,699  \n",
       "1  Mediatek Helio A22 Processor, Upto 2.0 GHz Pro...  ₹5,749  \n",
       "2  Mediatek Helio A22 Processor, Upto 2.0 GHz Pro...  ₹5,749  \n",
       "3                  Qualcomm Snapdragon 680 Processor  ₹9,299  \n",
       "4                  Qualcomm Snapdragon 680 Processor  ₹9,299  "
      ]
     },
     "execution_count": 8,
     "metadata": {},
     "output_type": "execute_result"
    }
   ],
   "source": [
    "df.head()"
   ]
  },
  {
   "cell_type": "markdown",
   "id": "fed97384",
   "metadata": {},
   "source": [
    "So we will extract the numerical values and also convert the price column to be in the int datatype"
   ]
  },
  {
   "cell_type": "code",
   "execution_count": 9,
   "id": "43d98c15",
   "metadata": {},
   "outputs": [],
   "source": [
    "df['Price'] = df['Price'].str.replace('₹', '').str.replace(',', '').astype(int)"
   ]
  },
  {
   "cell_type": "markdown",
   "id": "77f4153c",
   "metadata": {},
   "source": [
    "* **As we can see some of the models have been repeated in this data on the basis of the colour variant. I will change the \n",
    "model names so as to include the colour variants...and create a new column from them named Colur while excluding the rest of \n",
    "the data as it is the storage which has its own separate column**"
   ]
  },
  {
   "cell_type": "code",
   "execution_count": 10,
   "id": "3c14e957",
   "metadata": {},
   "outputs": [
    {
     "data": {
      "text/html": [
       "<div>\n",
       "<style scoped>\n",
       "    .dataframe tbody tr th:only-of-type {\n",
       "        vertical-align: middle;\n",
       "    }\n",
       "\n",
       "    .dataframe tbody tr th {\n",
       "        vertical-align: top;\n",
       "    }\n",
       "\n",
       "    .dataframe thead th {\n",
       "        text-align: right;\n",
       "    }\n",
       "</style>\n",
       "<table border=\"1\" class=\"dataframe\">\n",
       "  <thead>\n",
       "    <tr style=\"text-align: right;\">\n",
       "      <th></th>\n",
       "      <th>Model</th>\n",
       "      <th>Stars</th>\n",
       "      <th>Num_of_Ratings</th>\n",
       "      <th>Reviews</th>\n",
       "      <th>Ram</th>\n",
       "      <th>Storage</th>\n",
       "      <th>Expandable</th>\n",
       "      <th>Display</th>\n",
       "      <th>Camera</th>\n",
       "      <th>Battery</th>\n",
       "      <th>Processor</th>\n",
       "      <th>Price</th>\n",
       "      <th>Color</th>\n",
       "      <th>Memory</th>\n",
       "    </tr>\n",
       "  </thead>\n",
       "  <tbody>\n",
       "    <tr>\n",
       "      <th>0</th>\n",
       "      <td>SAMSUNG Galaxy F13</td>\n",
       "      <td>4.4</td>\n",
       "      <td>1,26,250 Ratings</td>\n",
       "      <td>7,344 Reviews</td>\n",
       "      <td>4 GB RAM</td>\n",
       "      <td>64 GB ROM</td>\n",
       "      <td>Expandable Upto 1 TB</td>\n",
       "      <td>16.76 cm (6.6 inch) Full HD+ Display</td>\n",
       "      <td>50MP + 5MP + 2MP | 8MP Front Camera</td>\n",
       "      <td>6000 mAh Lithium Ion Battery</td>\n",
       "      <td>Exynos 850 Processor</td>\n",
       "      <td>9699</td>\n",
       "      <td>Waterfall Blue</td>\n",
       "      <td>64</td>\n",
       "    </tr>\n",
       "    <tr>\n",
       "      <th>1</th>\n",
       "      <td>POCO C50</td>\n",
       "      <td>4.4</td>\n",
       "      <td>3,204 Ratings</td>\n",
       "      <td>151 Reviews</td>\n",
       "      <td>2 GB RAM</td>\n",
       "      <td>32 GB ROM</td>\n",
       "      <td>Expandable Upto 512 GB</td>\n",
       "      <td>16.56 cm (6.52 inch) HD+ Display</td>\n",
       "      <td>8MP Dual Camera | 5MP Front Camera</td>\n",
       "      <td>5000 mAh Lithium Polymer Battery</td>\n",
       "      <td>Mediatek Helio A22 Processor, Upto 2.0 GHz Pro...</td>\n",
       "      <td>5749</td>\n",
       "      <td>Country Green</td>\n",
       "      <td>32</td>\n",
       "    </tr>\n",
       "    <tr>\n",
       "      <th>2</th>\n",
       "      <td>POCO C50</td>\n",
       "      <td>4.4</td>\n",
       "      <td>3,204 Ratings</td>\n",
       "      <td>151 Reviews</td>\n",
       "      <td>2 GB RAM</td>\n",
       "      <td>32 GB ROM</td>\n",
       "      <td>Expandable Upto 512 GB</td>\n",
       "      <td>16.56 cm (6.52 inch) HD+ Display</td>\n",
       "      <td>8MP Dual Camera | 5MP Front Camera</td>\n",
       "      <td>5000 mAh Lithium Polymer Battery</td>\n",
       "      <td>Mediatek Helio A22 Processor, Upto 2.0 GHz Pro...</td>\n",
       "      <td>5749</td>\n",
       "      <td>Royal Blue</td>\n",
       "      <td>32</td>\n",
       "    </tr>\n",
       "    <tr>\n",
       "      <th>3</th>\n",
       "      <td>REDMI 10</td>\n",
       "      <td>4.3</td>\n",
       "      <td>1,93,536 Ratings</td>\n",
       "      <td>12,428 Reviews</td>\n",
       "      <td>4 GB RAM</td>\n",
       "      <td>64 GB ROM</td>\n",
       "      <td>Expandable Upto 1 TB</td>\n",
       "      <td>17.02 cm (6.7 inch) HD+ Display</td>\n",
       "      <td>50MP + 2MP | 5MP Front Camera</td>\n",
       "      <td>6000 mAh Lithium Polymer Battery</td>\n",
       "      <td>Qualcomm Snapdragon 680 Processor</td>\n",
       "      <td>9299</td>\n",
       "      <td>Caribbean Green</td>\n",
       "      <td>64</td>\n",
       "    </tr>\n",
       "    <tr>\n",
       "      <th>4</th>\n",
       "      <td>REDMI 10</td>\n",
       "      <td>4.3</td>\n",
       "      <td>1,93,536 Ratings</td>\n",
       "      <td>12,428 Reviews</td>\n",
       "      <td>4 GB RAM</td>\n",
       "      <td>64 GB ROM</td>\n",
       "      <td>Expandable Upto 1 TB</td>\n",
       "      <td>17.02 cm (6.7 inch) HD+ Display</td>\n",
       "      <td>50MP + 2MP | 5MP Front Camera</td>\n",
       "      <td>6000 mAh Lithium Polymer Battery</td>\n",
       "      <td>Qualcomm Snapdragon 680 Processor</td>\n",
       "      <td>9299</td>\n",
       "      <td>Pacific Blue</td>\n",
       "      <td>64</td>\n",
       "    </tr>\n",
       "  </tbody>\n",
       "</table>\n",
       "</div>"
      ],
      "text/plain": [
       "                 Model  Stars    Num_of_Ratings         Reviews        Ram  \\\n",
       "0  SAMSUNG Galaxy F13     4.4  1,26,250 Ratings   7,344 Reviews  4 GB RAM    \n",
       "1            POCO C50     4.4     3,204 Ratings     151 Reviews  2 GB RAM    \n",
       "2            POCO C50     4.4     3,204 Ratings     151 Reviews  2 GB RAM    \n",
       "3            REDMI 10     4.3  1,93,536 Ratings  12,428 Reviews  4 GB RAM    \n",
       "4            REDMI 10     4.3  1,93,536 Ratings  12,428 Reviews  4 GB RAM    \n",
       "\n",
       "     Storage              Expandable                               Display  \\\n",
       "0  64 GB ROM    Expandable Upto 1 TB  16.76 cm (6.6 inch) Full HD+ Display   \n",
       "1  32 GB ROM  Expandable Upto 512 GB      16.56 cm (6.52 inch) HD+ Display   \n",
       "2  32 GB ROM  Expandable Upto 512 GB      16.56 cm (6.52 inch) HD+ Display   \n",
       "3  64 GB ROM    Expandable Upto 1 TB       17.02 cm (6.7 inch) HD+ Display   \n",
       "4  64 GB ROM    Expandable Upto 1 TB       17.02 cm (6.7 inch) HD+ Display   \n",
       "\n",
       "                                Camera                           Battery  \\\n",
       "0  50MP + 5MP + 2MP | 8MP Front Camera      6000 mAh Lithium Ion Battery   \n",
       "1   8MP Dual Camera | 5MP Front Camera  5000 mAh Lithium Polymer Battery   \n",
       "2   8MP Dual Camera | 5MP Front Camera  5000 mAh Lithium Polymer Battery   \n",
       "3        50MP + 2MP | 5MP Front Camera  6000 mAh Lithium Polymer Battery   \n",
       "4        50MP + 2MP | 5MP Front Camera  6000 mAh Lithium Polymer Battery   \n",
       "\n",
       "                                           Processor  Price            Color  \\\n",
       "0                               Exynos 850 Processor   9699   Waterfall Blue   \n",
       "1  Mediatek Helio A22 Processor, Upto 2.0 GHz Pro...   5749    Country Green   \n",
       "2  Mediatek Helio A22 Processor, Upto 2.0 GHz Pro...   5749       Royal Blue   \n",
       "3                  Qualcomm Snapdragon 680 Processor   9299  Caribbean Green   \n",
       "4                  Qualcomm Snapdragon 680 Processor   9299     Pacific Blue   \n",
       "\n",
       "  Memory  \n",
       "0     64  \n",
       "1     32  \n",
       "2     32  \n",
       "3     64  \n",
       "4     64  "
      ]
     },
     "execution_count": 10,
     "metadata": {},
     "output_type": "execute_result"
    }
   ],
   "source": [
    "# Extract model name and memory size from model column\n",
    "model_regex = r'(.*)\\((.*)\\, (\\d+) (?:GB|TB)\\)'\n",
    "df[['Model', 'Color', 'Memory']] = df['Model'].str.extract(model_regex)\n",
    "df.head()"
   ]
  },
  {
   "cell_type": "code",
   "execution_count": 11,
   "id": "990b488b",
   "metadata": {},
   "outputs": [],
   "source": [
    "# Strip whitespace from color and memory columns\n",
    "df['Color'] = df['Color'].str.strip()\n",
    "df['Memory'] = df['Memory'].str.strip()"
   ]
  },
  {
   "cell_type": "code",
   "execution_count": 12,
   "id": "95edffec",
   "metadata": {},
   "outputs": [],
   "source": [
    "# drop the memeory column to avoid repetition of the same kind of data\n",
    "df.drop(columns=[\"Memory\"],inplace=True)"
   ]
  },
  {
   "cell_type": "code",
   "execution_count": 13,
   "id": "23d84a6c",
   "metadata": {},
   "outputs": [
    {
     "data": {
      "text/plain": [
       "0"
      ]
     },
     "execution_count": 13,
     "metadata": {},
     "output_type": "execute_result"
    }
   ],
   "source": [
    "# Now checking for duplicate vlaues\n",
    "df.duplicated().sum()"
   ]
  },
  {
   "cell_type": "markdown",
   "id": "57221d51",
   "metadata": {},
   "source": [
    "* **Since there are many feature phones data in this dataframe, I choose to delete such values by using the price range as the logic as most feature phones are in the 1500-2500 range, as feature phones are kind of outdated and also because here we are dealing with high tech smartphones**"
   ]
  },
  {
   "cell_type": "code",
   "execution_count": 14,
   "id": "b78de859",
   "metadata": {},
   "outputs": [],
   "source": [
    "df = df[df['Price'] > 2700]"
   ]
  },
  {
   "cell_type": "code",
   "execution_count": 15,
   "id": "51495eb7",
   "metadata": {},
   "outputs": [
    {
     "data": {
      "text/plain": [
       "(672, 13)"
      ]
     },
     "execution_count": 15,
     "metadata": {},
     "output_type": "execute_result"
    }
   ],
   "source": [
    "df.shape"
   ]
  },
  {
   "cell_type": "code",
   "execution_count": 16,
   "id": "49e7cbfe",
   "metadata": {},
   "outputs": [
    {
     "data": {
      "text/plain": [
       "Model               8\n",
       "Stars               3\n",
       "Num_of_Ratings      3\n",
       "Reviews             3\n",
       "Ram                 0\n",
       "Storage             0\n",
       "Expandable        282\n",
       "Display             0\n",
       "Camera              0\n",
       "Battery             0\n",
       "Processor           0\n",
       "Price               0\n",
       "Color               8\n",
       "dtype: int64"
      ]
     },
     "execution_count": 16,
     "metadata": {},
     "output_type": "execute_result"
    }
   ],
   "source": [
    "# Rechecking the null values\n",
    "df.isnull().sum()"
   ]
  },
  {
   "cell_type": "code",
   "execution_count": 17,
   "id": "e25c25bb",
   "metadata": {},
   "outputs": [],
   "source": [
    "# As we can see the Expamdable column has 282 missing values, lets try and fill them\n",
    "mode_val = df['Expandable'].mode()[0]\n",
    "df['Expandable'] = df['Expandable'].fillna(mode_val)"
   ]
  },
  {
   "cell_type": "code",
   "execution_count": 18,
   "id": "f3acbd64",
   "metadata": {},
   "outputs": [],
   "source": [
    "df = df.dropna()"
   ]
  },
  {
   "cell_type": "code",
   "execution_count": 19,
   "id": "d1678e25",
   "metadata": {},
   "outputs": [
    {
     "data": {
      "text/plain": [
       "Model             0\n",
       "Stars             0\n",
       "Num_of_Ratings    0\n",
       "Reviews           0\n",
       "Ram               0\n",
       "Storage           0\n",
       "Expandable        0\n",
       "Display           0\n",
       "Camera            0\n",
       "Battery           0\n",
       "Processor         0\n",
       "Price             0\n",
       "Color             0\n",
       "dtype: int64"
      ]
     },
     "execution_count": 19,
     "metadata": {},
     "output_type": "execute_result"
    }
   ],
   "source": [
    "# Checking if the values have been imputed\n",
    "df.isnull().sum()"
   ]
  },
  {
   "cell_type": "code",
   "execution_count": 20,
   "id": "cd3764fe",
   "metadata": {},
   "outputs": [
    {
     "data": {
      "text/plain": [
       "(661, 13)"
      ]
     },
     "execution_count": 20,
     "metadata": {},
     "output_type": "execute_result"
    }
   ],
   "source": [
    "df.shape"
   ]
  },
  {
   "cell_type": "code",
   "execution_count": 21,
   "id": "cdc77971",
   "metadata": {},
   "outputs": [],
   "source": [
    "# Converting the Stars column to numerical values\n",
    "\n",
    "df['Stars'] = df['Stars'].astype(float)"
   ]
  },
  {
   "cell_type": "code",
   "execution_count": 22,
   "id": "f3364183",
   "metadata": {},
   "outputs": [],
   "source": [
    "# Converting the Ratings and the reviews to numerical values\n",
    "\n",
    "df['Num_Ratings'] = df['Num_of_Ratings'].str.replace(',', '').str.extract('(\\d+)').astype(int)\n",
    "df['Num_Reviews'] = df['Reviews'].str.replace(',', '').str.extract('(\\d+)').astype(int)\n",
    "\n",
    "# Drop the original columns\n",
    "df.drop(['Num_of_Ratings', 'Reviews'], axis=1, inplace=True)"
   ]
  },
  {
   "cell_type": "markdown",
   "id": "f1068f4e",
   "metadata": {},
   "source": [
    "* **Inspecting the Ram column**"
   ]
  },
  {
   "cell_type": "code",
   "execution_count": 23,
   "id": "512d1332",
   "metadata": {},
   "outputs": [
    {
     "data": {
      "text/plain": [
       "array(['4 GB RAM ', '2 GB RAM ', '128 GB RO', '6 GB RAM ', '64 GB RO',\n",
       "       '8 GB RAM ', '3 GB RAM ', '12 GB RAM ', '256 GB RO', '4 MB RAM ',\n",
       "       '512 GB RO'], dtype=object)"
      ]
     },
     "execution_count": 23,
     "metadata": {},
     "output_type": "execute_result"
    }
   ],
   "source": [
    "df['Ram'].unique()\n"
   ]
  },
  {
   "cell_type": "code",
   "execution_count": 24,
   "id": "913ee5e6",
   "metadata": {},
   "outputs": [],
   "source": [
    "# Fixing the Anamolies in the Ram column\n",
    "\n",
    "# Find the mode of the Ram column\n",
    "mode_value = df['Ram'].mode()[0]\n",
    "mode_value\n",
    "\n",
    "\n",
    "# Create a list of values to replace\n",
    "replace_values = ['128 GB RO', '64 GB RO', '256 GB RO', '4 MB RAM ', '512 GB RO']\n",
    "\n",
    "# Replace the values with the mode value\n",
    "df['RAM'] = df['Ram'].replace(replace_values, mode_value)"
   ]
  },
  {
   "cell_type": "code",
   "execution_count": 25,
   "id": "193bbe14",
   "metadata": {},
   "outputs": [
    {
     "data": {
      "text/plain": [
       "array(['4 GB RAM ', '2 GB RAM ', '6 GB RAM ', '8 GB RAM ', '3 GB RAM ',\n",
       "       '12 GB RAM '], dtype=object)"
      ]
     },
     "execution_count": 25,
     "metadata": {},
     "output_type": "execute_result"
    }
   ],
   "source": [
    "df['RAM'].unique()"
   ]
  },
  {
   "cell_type": "markdown",
   "id": "cde18cc7",
   "metadata": {},
   "source": [
    "* **Inspecting the Storage column**\n",
    "\n"
   ]
  },
  {
   "cell_type": "code",
   "execution_count": 26,
   "id": "cc76bbde",
   "metadata": {
    "scrolled": false
   },
   "outputs": [
    {
     "data": {
      "text/plain": [
       "array(['64 GB ROM', '32 GB ROM', '128 GB ROM', '128 GB RO', '256 GB RO',\n",
       "       '256 GB ROM', '16 GB ROM', '512 GB ROM'], dtype=object)"
      ]
     },
     "execution_count": 26,
     "metadata": {},
     "output_type": "execute_result"
    }
   ],
   "source": [
    "df['Storage'].unique()"
   ]
  },
  {
   "cell_type": "code",
   "execution_count": 27,
   "id": "7c1338bc",
   "metadata": {},
   "outputs": [],
   "source": [
    "df['Storage'] = df['Storage'].str.replace('128 GB RO', '128 GB ROM')\n",
    "df['Storage'] = df['Storage'].str.replace('256 GB RO', '256 GB ROM')"
   ]
  },
  {
   "cell_type": "code",
   "execution_count": 28,
   "id": "48480168",
   "metadata": {},
   "outputs": [
    {
     "data": {
      "text/plain": [
       "array(['64 GB ROM', '32 GB ROM', '128 GB ROMM', '128 GB ROM',\n",
       "       '256 GB ROM', '256 GB ROMM', '16 GB ROM', '512 GB ROM'],\n",
       "      dtype=object)"
      ]
     },
     "execution_count": 28,
     "metadata": {},
     "output_type": "execute_result"
    }
   ],
   "source": [
    "# Rechecking the values\n",
    "df.Storage.unique()\n"
   ]
  },
  {
   "cell_type": "code",
   "execution_count": 29,
   "id": "dc5b6d14",
   "metadata": {},
   "outputs": [],
   "source": [
    "df['Storage'] = df['Storage'].str.replace('128 GB ROMM', '128 GB ROM')\n",
    "df['Storage'] = df['Storage'].str.replace('256 GB ROMM', '256 GB ROM')"
   ]
  },
  {
   "cell_type": "markdown",
   "id": "aabe63c6",
   "metadata": {},
   "source": [
    "* **Checking the expandable column**\n",
    "\n"
   ]
  },
  {
   "cell_type": "code",
   "execution_count": 30,
   "id": "c0f2ff49",
   "metadata": {},
   "outputs": [
    {
     "data": {
      "text/plain": [
       "array(['Expandable Upto 1 TB', 'Expandable Upto 512 GB',\n",
       "       'Expandable Upto 256 GB', ' Expandable Upto 1 TB',\n",
       "       'Expandable Upto 2 TB', ' Expandable Upto 512 GB',\n",
       "       ' Expandable Upto 256 GB', ' Expandable Upto 2 TB',\n",
       "       'Expandable Upto 128 GB'], dtype=object)"
      ]
     },
     "execution_count": 30,
     "metadata": {},
     "output_type": "execute_result"
    }
   ],
   "source": [
    "df['Expandable'].unique()"
   ]
  },
  {
   "cell_type": "code",
   "execution_count": 31,
   "id": "cc10db22",
   "metadata": {},
   "outputs": [
    {
     "data": {
      "text/plain": [
       "array(['Expandable Upto 1 TB', 'Expandable Upto 512 GB',\n",
       "       'Expandable Upto 256 GB', 'Expandable Upto 2 TB',\n",
       "       'Expandable Upto 128 GB'], dtype=object)"
      ]
     },
     "execution_count": 31,
     "metadata": {},
     "output_type": "execute_result"
    }
   ],
   "source": [
    "df['Expandable'] = df['Expandable'].str.replace(' Expandable', 'Expandable')\n",
    "\n",
    "df['Expandable'].unique()"
   ]
  },
  {
   "cell_type": "markdown",
   "id": "5fee7aea",
   "metadata": {},
   "source": [
    "* **Checking the Display Column**\n",
    "\n"
   ]
  },
  {
   "cell_type": "code",
   "execution_count": 32,
   "id": "246370d0",
   "metadata": {},
   "outputs": [
    {
     "data": {
      "text/plain": [
       "array(['16.76 cm (6.6 inch) Full HD+ Display',\n",
       "       '16.56 cm (6.52 inch) HD+ Display',\n",
       "       '17.02 cm (6.7 inch) HD+ Display',\n",
       "       '17.32 cm (6.82 inch) HD+ Display',\n",
       "       '15.49 cm (6.1 inch) Super Retina XDR Display',\n",
       "       '15.49 cm (6.1 inch) Liquid Retina HD Display',\n",
       "       '16.26 cm (6.4 inch) Full HD+ Display',\n",
       "       '16.51 cm (6.5 inch) HD+ Display',\n",
       "       '17.02 cm (6.7 inch) Full HD+ AMOLED Display',\n",
       "       '16.94 cm (6.67 inch) Full HD+ Super AMOLED Display',\n",
       "       '16.71 cm (6.58 inch) Full HD+ Display',\n",
       "       '16.64 cm (6.55 inch) Full HD+ Display',\n",
       "       '16.76 cm (6.6 inch) HD+ Display',\n",
       "       '16.51 cm (6.5 inch) HD Display',\n",
       "       '16.26 cm (6.4 Inch) Full HD+ Display',\n",
       "       '16.36 cm (6.44 inch) Full HD+ AMOLED Display',\n",
       "       '15.6 cm (6.14 inch) Full HD+ Display',\n",
       "       '16.76 cm (6.6 inch) Display', '16.74 cm (6.59 inch) Display',\n",
       "       '16.33 cm (6.43 inch) Full HD+ Super AMOLED Display',\n",
       "       '16.33 cm (6.43 inch) Full HD+ AMOLED Display',\n",
       "       '16.66 cm (6.56 inch) HD+ Display',\n",
       "       '16.94 cm (6.67 inch) Full HD+ Display',\n",
       "       '16.59 cm (6.53 inch) Display', '16.59 cm (6.53 inch) HD+ Display',\n",
       "       '16.56 cm (6.52 inch) Display',\n",
       "       '17.22 cm (6.78 inch) Full HD+ Display',\n",
       "       '17.04 cm (6.71 inch) HD+ Display', '16.33 cm (6.43 inch) Display',\n",
       "       '17.02 cm (6.7 inch) Super Retina XDR Display',\n",
       "       '16.51 cm (6.5 inch) Display',\n",
       "       '16.33 cm (6.43 inch) Full HD+ Display',\n",
       "       '16.54 cm (6.51 inch) HD+ Display', '17.02 cm (6.7 inch) Display',\n",
       "       '16.71 cm (6.58 inch) Display',\n",
       "       '17.02 cm (6.7 inch) Full HD+ Display',\n",
       "       '16.94 cm (6.67 inch) Full HD Display',\n",
       "       '17.53 cm (6.9 inch) Full HD+ Display',\n",
       "       '17.07 cm (6.72 inch) Full HD+ Display',\n",
       "       '17.27 cm (6.8 inch) Full HD+ Display',\n",
       "       '16.36 cm (6.44 inch) Display', '16.94 cm (6.67 inch) Display',\n",
       "       '16.97 cm (6.68 inch) Display', '16.26 cm (6.4 inch) Display',\n",
       "       '16.64 cm (6.55 inch) HD+ Display',\n",
       "       '15.49 cm (6.1 inch) Full HD+ Display',\n",
       "       '16.51 cm (6.5 inch) Full HD Display', '12.7 cm (5 inch) Display',\n",
       "       '16.21 cm (6.38 inch) Full HD+ AMOLED Display',\n",
       "       '16.3 cm (6.417 inch) Full HD+ AMOLED Display',\n",
       "       '16.66 cm (6.56 inch) Display',\n",
       "       '16.66 cm (6.56 inch) Full HD+ Display',\n",
       "       '16.81 cm (6.62 inch) Display', '17.27 cm (6.8 inch) Display',\n",
       "       '16.33 cm (6.43 inch) Full HD+ E3 Super AMOLED Display',\n",
       "       '16.59 cm (6.53 inch) Full HD+ Display',\n",
       "       '16.56 cm (6.52 inch) HD Display',\n",
       "       '16.51 cm (6.5 inch) Full HD+ Display',\n",
       "       '16.43 cm (6.47 inch) Full HD+ AMOLED Display',\n",
       "       '12.7 cm (5 inch) FWVGA+ Display',\n",
       "       '13.84 cm (5.45 inch) HD+ Display',\n",
       "       '16.74 cm (6.59 inch) Full HD+ Display',\n",
       "       '16.54 cm (6.51 inch) Display',\n",
       "       '16.33 cm (6.43 inch) Full HD Display',\n",
       "       '17.27 cm (6.8 inch) HD+ Display',\n",
       "       '16.26 cm (6.4 inch) Full HD+ AMOLED Display',\n",
       "       '16.0 cm (6.3 inch) Full HD+ Display',\n",
       "       '16.26 cm (6.4 inch) HD+ Display',\n",
       "       '17.02 cm (6.7 inch) Quad HD+ Display',\n",
       "       '16.36 cm (6.44 inch) Full HD+ Display',\n",
       "       '16.55 cm (6.515 inch) HD+ Display',\n",
       "       '17.65 cm (6.95 inch) Full HD+ Display',\n",
       "       '16.55 cm (6.517 inch) HD+ Display',\n",
       "       '15.8 cm (6.22 inch) HD+ Display',\n",
       "       '15.49 cm (6.1 inch) HD+ Display', '13.84 cm (5.45 inch) Display'],\n",
       "      dtype=object)"
      ]
     },
     "execution_count": 32,
     "metadata": {},
     "output_type": "execute_result"
    }
   ],
   "source": [
    "df['Display'].unique()"
   ]
  },
  {
   "cell_type": "code",
   "execution_count": 33,
   "id": "72a5cd6f",
   "metadata": {
    "scrolled": true
   },
   "outputs": [
    {
     "data": {
      "text/html": [
       "<div>\n",
       "<style scoped>\n",
       "    .dataframe tbody tr th:only-of-type {\n",
       "        vertical-align: middle;\n",
       "    }\n",
       "\n",
       "    .dataframe tbody tr th {\n",
       "        vertical-align: top;\n",
       "    }\n",
       "\n",
       "    .dataframe thead th {\n",
       "        text-align: right;\n",
       "    }\n",
       "</style>\n",
       "<table border=\"1\" class=\"dataframe\">\n",
       "  <thead>\n",
       "    <tr style=\"text-align: right;\">\n",
       "      <th></th>\n",
       "      <th>Model</th>\n",
       "      <th>Stars</th>\n",
       "      <th>Ram</th>\n",
       "      <th>Storage</th>\n",
       "      <th>Expandable</th>\n",
       "      <th>Display</th>\n",
       "      <th>Camera</th>\n",
       "      <th>Battery</th>\n",
       "      <th>Processor</th>\n",
       "      <th>Price</th>\n",
       "      <th>Color</th>\n",
       "      <th>Num_Ratings</th>\n",
       "      <th>Num_Reviews</th>\n",
       "      <th>RAM</th>\n",
       "    </tr>\n",
       "  </thead>\n",
       "  <tbody>\n",
       "    <tr>\n",
       "      <th>0</th>\n",
       "      <td>SAMSUNG Galaxy F13</td>\n",
       "      <td>4.4</td>\n",
       "      <td>4 GB RAM</td>\n",
       "      <td>64 GB ROM</td>\n",
       "      <td>Expandable Upto 1 TB</td>\n",
       "      <td>6.6</td>\n",
       "      <td>50MP + 5MP + 2MP | 8MP Front Camera</td>\n",
       "      <td>6000 mAh Lithium Ion Battery</td>\n",
       "      <td>Exynos 850 Processor</td>\n",
       "      <td>9699</td>\n",
       "      <td>Waterfall Blue</td>\n",
       "      <td>126250</td>\n",
       "      <td>7344</td>\n",
       "      <td>4 GB RAM</td>\n",
       "    </tr>\n",
       "    <tr>\n",
       "      <th>1</th>\n",
       "      <td>POCO C50</td>\n",
       "      <td>4.4</td>\n",
       "      <td>2 GB RAM</td>\n",
       "      <td>32 GB ROM</td>\n",
       "      <td>Expandable Upto 512 GB</td>\n",
       "      <td>6.52</td>\n",
       "      <td>8MP Dual Camera | 5MP Front Camera</td>\n",
       "      <td>5000 mAh Lithium Polymer Battery</td>\n",
       "      <td>Mediatek Helio A22 Processor, Upto 2.0 GHz Pro...</td>\n",
       "      <td>5749</td>\n",
       "      <td>Country Green</td>\n",
       "      <td>3204</td>\n",
       "      <td>151</td>\n",
       "      <td>2 GB RAM</td>\n",
       "    </tr>\n",
       "    <tr>\n",
       "      <th>2</th>\n",
       "      <td>POCO C50</td>\n",
       "      <td>4.4</td>\n",
       "      <td>2 GB RAM</td>\n",
       "      <td>32 GB ROM</td>\n",
       "      <td>Expandable Upto 512 GB</td>\n",
       "      <td>6.52</td>\n",
       "      <td>8MP Dual Camera | 5MP Front Camera</td>\n",
       "      <td>5000 mAh Lithium Polymer Battery</td>\n",
       "      <td>Mediatek Helio A22 Processor, Upto 2.0 GHz Pro...</td>\n",
       "      <td>5749</td>\n",
       "      <td>Royal Blue</td>\n",
       "      <td>3204</td>\n",
       "      <td>151</td>\n",
       "      <td>2 GB RAM</td>\n",
       "    </tr>\n",
       "    <tr>\n",
       "      <th>3</th>\n",
       "      <td>REDMI 10</td>\n",
       "      <td>4.3</td>\n",
       "      <td>4 GB RAM</td>\n",
       "      <td>64 GB ROM</td>\n",
       "      <td>Expandable Upto 1 TB</td>\n",
       "      <td>6.7</td>\n",
       "      <td>50MP + 2MP | 5MP Front Camera</td>\n",
       "      <td>6000 mAh Lithium Polymer Battery</td>\n",
       "      <td>Qualcomm Snapdragon 680 Processor</td>\n",
       "      <td>9299</td>\n",
       "      <td>Caribbean Green</td>\n",
       "      <td>193536</td>\n",
       "      <td>12428</td>\n",
       "      <td>4 GB RAM</td>\n",
       "    </tr>\n",
       "    <tr>\n",
       "      <th>4</th>\n",
       "      <td>REDMI 10</td>\n",
       "      <td>4.3</td>\n",
       "      <td>4 GB RAM</td>\n",
       "      <td>64 GB ROM</td>\n",
       "      <td>Expandable Upto 1 TB</td>\n",
       "      <td>6.7</td>\n",
       "      <td>50MP + 2MP | 5MP Front Camera</td>\n",
       "      <td>6000 mAh Lithium Polymer Battery</td>\n",
       "      <td>Qualcomm Snapdragon 680 Processor</td>\n",
       "      <td>9299</td>\n",
       "      <td>Pacific Blue</td>\n",
       "      <td>193536</td>\n",
       "      <td>12428</td>\n",
       "      <td>4 GB RAM</td>\n",
       "    </tr>\n",
       "  </tbody>\n",
       "</table>\n",
       "</div>"
      ],
      "text/plain": [
       "                 Model  Stars        Ram    Storage              Expandable  \\\n",
       "0  SAMSUNG Galaxy F13     4.4  4 GB RAM   64 GB ROM    Expandable Upto 1 TB   \n",
       "1            POCO C50     4.4  2 GB RAM   32 GB ROM  Expandable Upto 512 GB   \n",
       "2            POCO C50     4.4  2 GB RAM   32 GB ROM  Expandable Upto 512 GB   \n",
       "3            REDMI 10     4.3  4 GB RAM   64 GB ROM    Expandable Upto 1 TB   \n",
       "4            REDMI 10     4.3  4 GB RAM   64 GB ROM    Expandable Upto 1 TB   \n",
       "\n",
       "  Display                               Camera  \\\n",
       "0     6.6  50MP + 5MP + 2MP | 8MP Front Camera   \n",
       "1    6.52   8MP Dual Camera | 5MP Front Camera   \n",
       "2    6.52   8MP Dual Camera | 5MP Front Camera   \n",
       "3     6.7        50MP + 2MP | 5MP Front Camera   \n",
       "4     6.7        50MP + 2MP | 5MP Front Camera   \n",
       "\n",
       "                            Battery  \\\n",
       "0      6000 mAh Lithium Ion Battery   \n",
       "1  5000 mAh Lithium Polymer Battery   \n",
       "2  5000 mAh Lithium Polymer Battery   \n",
       "3  6000 mAh Lithium Polymer Battery   \n",
       "4  6000 mAh Lithium Polymer Battery   \n",
       "\n",
       "                                           Processor  Price            Color  \\\n",
       "0                               Exynos 850 Processor   9699   Waterfall Blue   \n",
       "1  Mediatek Helio A22 Processor, Upto 2.0 GHz Pro...   5749    Country Green   \n",
       "2  Mediatek Helio A22 Processor, Upto 2.0 GHz Pro...   5749       Royal Blue   \n",
       "3                  Qualcomm Snapdragon 680 Processor   9299  Caribbean Green   \n",
       "4                  Qualcomm Snapdragon 680 Processor   9299     Pacific Blue   \n",
       "\n",
       "   Num_Ratings  Num_Reviews        RAM  \n",
       "0       126250         7344  4 GB RAM   \n",
       "1         3204          151  2 GB RAM   \n",
       "2         3204          151  2 GB RAM   \n",
       "3       193536        12428  4 GB RAM   \n",
       "4       193536        12428  4 GB RAM   "
      ]
     },
     "execution_count": 33,
     "metadata": {},
     "output_type": "execute_result"
    }
   ],
   "source": [
    "df['Display'] = df['Display'].str.extract(r'(\\d+\\.\\d+)\\s*inch')\n",
    "df.head()"
   ]
  },
  {
   "cell_type": "code",
   "execution_count": 34,
   "id": "aa7bc264",
   "metadata": {},
   "outputs": [
    {
     "data": {
      "text/plain": [
       "array(['6.6', '6.52', '6.7', '6.82', '6.1', '6.4', '6.5', '6.67', '6.58',\n",
       "       '6.55', nan, '6.44', '6.14', '6.59', '6.43', '6.56', '6.53',\n",
       "       '6.78', '6.71', '6.51', '6.9', '6.72', '6.8', '6.68', '6.38',\n",
       "       '6.417', '6.62', '6.47', '5.45', '6.3', '6.515', '6.95', '6.517',\n",
       "       '6.22'], dtype=object)"
      ]
     },
     "execution_count": 34,
     "metadata": {},
     "output_type": "execute_result"
    }
   ],
   "source": [
    "df['Display'].unique()"
   ]
  },
  {
   "cell_type": "code",
   "execution_count": 35,
   "id": "ffa150b0",
   "metadata": {
    "scrolled": true
   },
   "outputs": [],
   "source": [
    "df['Display'] = df['Display'].fillna(df['Display'].mode()[0])"
   ]
  },
  {
   "cell_type": "code",
   "execution_count": 36,
   "id": "34057fbe",
   "metadata": {},
   "outputs": [
    {
     "data": {
      "text/plain": [
       "array(['6.6', '6.52', '6.7', '6.82', '6.1', '6.4', '6.5', '6.67', '6.58',\n",
       "       '6.55', '6.44', '6.14', '6.59', '6.43', '6.56', '6.53', '6.78',\n",
       "       '6.71', '6.51', '6.9', '6.72', '6.8', '6.68', '6.38', '6.417',\n",
       "       '6.62', '6.47', '5.45', '6.3', '6.515', '6.95', '6.517', '6.22'],\n",
       "      dtype=object)"
      ]
     },
     "execution_count": 36,
     "metadata": {},
     "output_type": "execute_result"
    }
   ],
   "source": [
    "df['Display'].unique()"
   ]
  },
  {
   "cell_type": "markdown",
   "id": "7cc5aaf5",
   "metadata": {},
   "source": [
    "* **Checking the camera column**"
   ]
  },
  {
   "cell_type": "code",
   "execution_count": 37,
   "id": "b647a6ec",
   "metadata": {},
   "outputs": [
    {
     "data": {
      "text/plain": [
       "array(['50MP + 5MP + 2MP | 8MP Front Camera',\n",
       "       '8MP Dual Camera | 5MP Front Camera',\n",
       "       '50MP + 2MP | 5MP Front Camera',\n",
       "       '13Mp + AI Lens | 8MP Front Camera',\n",
       "       '12MP + 12MP | 12MP Front Camera',\n",
       "       '50MP + 8MP + 2MP | 8MP Front Camera',\n",
       "       '50MP + 8MP | 16MP Front Camera',\n",
       "       '50MP + 8MP + 2MP | 16MP Front Camera',\n",
       "       '50MP + 8MP + 2MP | 13MP Front Camera',\n",
       "       '13MP Rear Camera | 5MP Front Camera',\n",
       "       '50 MP + 2 MP Depth Lens + AI Lens | 8MP Front Camera',\n",
       "       '50 MP + 2 MP + QVGA | 8MP Front Camera',\n",
       "       '64MP + 8MP + 2MP | 16MP Front Camera',\n",
       "       '50MP + 2MP | 8MP Front Camera',\n",
       "       '8MP Rear Camera | 5MP Front Camera',\n",
       "       '13MP + AI Lens | 5MP Front Camera',\n",
       "       '50MP + 8MP + 2MP + 2MP | 16MP Front Camera',\n",
       "       '13MP + 2MP | 5MP Front Camera',\n",
       "       '48MP + 2MP + 2MP | 8MP Front Camera',\n",
       "       '50MP + 2MP + 2MP | 16MP Front Camera',\n",
       "       '12.2MP + 12MP | 8MP Front Camera',\n",
       "       '50MP + 2MP + 0.3MP | 8MP Front Camera',\n",
       "       '50 MP + Depth Lens | 8MP Front Camera', '50MP Rear Camera',\n",
       "       '64MP + 8MP + 2MP + 2MP | 13MP Front Camera',\n",
       "       '50MP + 0.3MP + 0.3MP | 5MP Front Camera',\n",
       "       '108MP + 8MP + 2MP | 16MP Front Camera',\n",
       "       '50MP + AI Lens | 8MP Front Camera', '13MP Rear Camera',\n",
       "       '13MP + 2MP + 2MP | 5MP Front Camera',\n",
       "       '50MP + 0.3MP | 5MP Front Camera', '5MP Rear Camera',\n",
       "       '64MP Rear Camera', '50MP + 2MP + 2MP | 8MP Front Camera',\n",
       "       '50MP Rear Camera | 5MP Front Camera',\n",
       "       '48MP + 8MP + 2MP + 2MP | 16MP Front Camera',\n",
       "       '50MP + 50MP | 16MP Front Camera',\n",
       "       '50MP + 2MP Depth Sensor + 2MP Macro Sensor | 8MP Front Camera',\n",
       "       '50 MP + 2 MP Depth Lens + AI Lens | 16MP Front Camera',\n",
       "       '48MP + 2MP + 2MP | 16MP Front Camera',\n",
       "       '13MP + 2MP | 8MP Front Camera', '50MP + 2MP | 16MP Front Camera',\n",
       "       '50MP (OIS) + 8MP + 2MP | 50MP Front Camera',\n",
       "       '108MP + 2MP Depth Lens + AI lens | 16MP Front Camera',\n",
       "       '50MP (OIS) + 8MP + 2MP | 16MP Front Camera',\n",
       "       '50MP + 2MP Depth + AI Lens | 16MP Front Camera',\n",
       "       '8MP Rear Camera',\n",
       "       '108MP + 2MP (Depth) + 2MP (Macro) | 16MP Front Camera',\n",
       "       '50MP + 50MP + 2MP | 32MP Front Camera',\n",
       "       '48MP + 2MP | 8MP Front Camera',\n",
       "       '200MP + 8MP + 2MP | 16MP Front Camera',\n",
       "       '50MP + 2MP | 13MP Front Camera',\n",
       "       '108MP + 2MP + 2MP | 32MP Front Camera',\n",
       "       '108MP + 2MP | 16MP Front Camera',\n",
       "       '64MP + 2MP | 16MP Front Camera',\n",
       "       '13MP + Depth Lens | 8MP Front Camera', '48MP Rear Camera',\n",
       "       '108MP Rear Camera', '13MP Rear Camera | 8MP Front Camera',\n",
       "       '50MP + 10MP + 12MP | 12MP Front Camera',\n",
       "       '50MP + 8MP + 2MP + 2MP | 8MP Front Camera', '2MP Rear Camera',\n",
       "       '50MP + 50MP + 2MP + 2MP | 16MP + 16MP Dual Front Camera',\n",
       "       '50MP + 5MP | 8MP Front Camera',\n",
       "       '8 MP + Depth Lens | 5MP Front Camera',\n",
       "       '50MP + 8MP + 2MP | 44MP Front Camera', '13MP + 2MP',\n",
       "       '64MP + 8MP + 2MP | 20MP Front Camera',\n",
       "       '64MP (OIS) + 2MP + 2MP | 16MP Front Camera',\n",
       "       '50MP + 50MP + 2MP | 60MP Front Camera',\n",
       "       '48MP Primary Camera + 2MP Macro Lens + 2MP Depth Sensor | 8MP Front Camera',\n",
       "       '64MP + 64MP + 8MP + 2MP | 16MP + 16MP Dual Front Camera',\n",
       "       '5MP Rear Camera | 5MP Front Camera',\n",
       "       '12MP + 12MP + 8MP (OIS) | 32MP Front Camera',\n",
       "       '108MP + 13MP + 2MP | 60 MP with OIS',\n",
       "       '64MP + 64MP + 2MP + 2MP | 16MP Dual Front Camera',\n",
       "       '48MP + 8MP + 2MP + 2MP | 13MP Front Camera',\n",
       "       '50 MP + 2 MP Depth Lens + AI lens | 16MP Front Camera',\n",
       "       '108MP + 8MP + 2MP | 32MP Front Camera',\n",
       "       '13MP + 2MP + 0.3MP | 5MP Front Camera',\n",
       "       '50MP + 5MP + 2MP + 2MP | 8MP Front Camera',\n",
       "       '64MP + 8MP + 5MP + 2MP | 16MP Front Camera',\n",
       "       '48MP + 5MP + 2MP + 2MP | 16MP Front Camera',\n",
       "       '50MP + 13MP + 2MP | 32MP Front Camera',\n",
       "       '5MP Rear Camera | 2MP Front Camera',\n",
       "       '50MP Rear Camera | 8MP Front Camera',\n",
       "       '8MP + Depth Sensor | 8MP Front Camera',\n",
       "       '50MP + 8MP + 2MP | 32MP Front Camera',\n",
       "       '64MP + 2MP + 2MP | 16MP + 2MP Dual Front Camera',\n",
       "       '64MP + 8MP + 2MP + 2MP | 16MP Front Camera',\n",
       "       '16MP Rear Camera | 8MP Front Camera',\n",
       "       '12MP Rear Camera | 5MP Front Camera',\n",
       "       '50MP + 12MP | 10.8MP Front Camera',\n",
       "       '64MP + 13MP + 5MP | 24MP Front Camera',\n",
       "       '13MP + 2MP + 2MP | 8MP Front Camera',\n",
       "       '108MP + 12MP + 5MP + 5MP | 32MP Front Camera',\n",
       "       '50MP + 48MP + 12MP | 10.8MP Front Camera',\n",
       "       '64MP + 12MP + 5MP + 5MP | 32MP Front Camera',\n",
       "       '64MP + 8MP + 2MP | 44MP Front Camera',\n",
       "       '64MP + 2MP + 2MP | 16MP Front Camera',\n",
       "       '48MP + 12MP + 12MP | 12MP Front Camera',\n",
       "       '48MP + 5MP + 2MP + 2MP | 8MP Front Camera',\n",
       "       '12MP + 12MP | 10MP Front Camera',\n",
       "       '50 MP + 2 MP Depth Lens + 2 MP Macro Lens | 16MP Front Camera',\n",
       "       '64MP + 2MP + 2MP | 32MP + 2MP Dual Front Camera',\n",
       "       '48MP + 8MP + 2MP | 16MP Front Camera',\n",
       "       '64MP + 8MP + 2MP | 32MP Front Camera',\n",
       "       '48MP + 8MP + 2MP + 2MP | 20MP Front Camera',\n",
       "       '108MP + 8MP + 2MP | 50MP + 8MP Dual Front Camera',\n",
       "       '48MP + 8MP + 5MP + 2MP | 16MP Front Camera',\n",
       "       '50MP + 50MP + 2MP + 2MP | 5MP Front Camera',\n",
       "       '64MP + 8MP + 5MP | 20MP Front Camera',\n",
       "       '13 MP + 2 MP Depth Lens | 8MP Front Camera',\n",
       "       '50MP + 12MP + 12MP | 32MP Front Camera',\n",
       "       '50MP + 2MP + AI Lens | 8MP Front Camera',\n",
       "       '48MP + 8MP + 5MP + 2MP | 13MP Front Camera',\n",
       "       '64MP + 8MP + 5MP | 16MP Front Camera',\n",
       "       '64MP + 12MP + 8MP + 2MP | 16MP + 8MP Dual Front Camera',\n",
       "       '108MP + 8MP + 5MP | 20MP Front Camera', '12MP Rear Camera',\n",
       "       '50 MP + 2 MP + AI Lens | 8MP Front Camera',\n",
       "       '13MP + 8MP + 5MP + 2MP | 8MP Front Camera',\n",
       "       '64MP + 8MP + 2MP + 2MP | 20MP + 2MP Dual Front Camera',\n",
       "       '200MP + 50MP + 12MP | 60MP Front Camera',\n",
       "       '50MP + 12MP + 10MP | 10MP Front Camera'], dtype=object)"
      ]
     },
     "execution_count": 37,
     "metadata": {},
     "output_type": "execute_result"
    }
   ],
   "source": [
    "df['Camera'].unique()\n"
   ]
  },
  {
   "cell_type": "markdown",
   "id": "0ad4b2d1",
   "metadata": {},
   "source": [
    "* **Since the Camera column has so many values, and the data is cluttered. So we are just extracting the number of cameras from \n",
    "the camera column for simplicity. Please note that this is the toal number of cameras including the front and the back cameras**"
   ]
  },
  {
   "cell_type": "code",
   "execution_count": 38,
   "id": "75f32009",
   "metadata": {},
   "outputs": [],
   "source": [
    "# Function to count cameras\n",
    "def count_cameras(x):\n",
    "    return x.count('MP')\n",
    "\n",
    "# Apply the function to each row in the 'Camera' column\n",
    "df['Total_Cameras'] = df['Camera'].apply(count_cameras)"
   ]
  },
  {
   "cell_type": "code",
   "execution_count": 39,
   "id": "52920524",
   "metadata": {},
   "outputs": [
    {
     "data": {
      "text/plain": [
       "array([4, 2, 3, 1, 5, 6], dtype=int64)"
      ]
     },
     "execution_count": 39,
     "metadata": {},
     "output_type": "execute_result"
    }
   ],
   "source": [
    "df['Total_Cameras'].unique()"
   ]
  },
  {
   "cell_type": "code",
   "execution_count": 40,
   "id": "7bab8f96",
   "metadata": {},
   "outputs": [],
   "source": [
    "# Dropping the Camera column as it is no longer required\n",
    "\n",
    "df.drop(columns=[\"Camera\"],inplace=True)"
   ]
  },
  {
   "cell_type": "markdown",
   "id": "847efab7",
   "metadata": {},
   "source": [
    "* **Analysing the Batttery column**\n",
    "\n"
   ]
  },
  {
   "cell_type": "code",
   "execution_count": 41,
   "id": "d3d4aacb",
   "metadata": {},
   "outputs": [
    {
     "data": {
      "text/plain": [
       "array(['6000 mAh Lithium Ion Battery', '5000 mAh Lithium Polymer Battery',\n",
       "       '6000 mAh Lithium Polymer Battery',\n",
       "       '6000 mAh Li-ion Polymer Battery',\n",
       "       'A15 Bionic Chip, 6 Core Processor Processor',\n",
       "       '5000 mAh Lithium Ion Battery', 'A13 Bionic Chip Processor',\n",
       "       '5000 mAh Lithium-ion Polymer Battery', '5000 mAh Lithium Battery',\n",
       "       '5000 mAh LiPo Battery', '5000 mAh Battery',\n",
       "       '6000 mAh Lithium-ion Polymer Battery',\n",
       "       '5000 mAh Lithium Ion Polymer Battery', '6000 mAh Battery',\n",
       "       '5000 mAh Lithium-Ion Battery', 'A15 Bionic Chip Processor',\n",
       "       '4410 mAh Battery', '5000 mAh Lithium-Ploymer Battery',\n",
       "       '5000 mAh Li-ion Polymer Battery', '4700 mAh Lithium Battery',\n",
       "       '5000 mAh Li-Polymer Battery',\n",
       "       '4310 mAh Lithium-ion Polymer Battery',\n",
       "       '4500 mAh Lithium-ion Battery', '5000 mAh Lithium Battery Battery',\n",
       "       '4600 mAh Battery', '7000 mAh Battery', '4020 mAh Lithium Battery',\n",
       "       '4980 mAh Lithium Polymer Battery',\n",
       "       '4800 mAh Lithium-ion Polymer Battery',\n",
       "       '3900 mAh Lithium Ion Battery', '3020 mAh Battery',\n",
       "       '5080 mAh Battery', '4050 mAh Lithium Battery', '4500 mAh Battery',\n",
       "       '4500 mAh Lithium-ion Polymer Battery',\n",
       "       '4800 mAh Lithium Polymer Battery', '4700 mAh Battery',\n",
       "       '4000 mAh Li-Polymer Battery', '5000 mAh Li-ion Battery',\n",
       "       'A14 Bionic Chip with Next Generation Neural Engine Processor',\n",
       "       '5020 mAh Battery', '4700 mAh Lithium Ion Battery',\n",
       "       '5020 mAh Li-Polymer Battery', '4400 mAh Lithium Battery',\n",
       "       '5000 mAh Lithium ion Battery', '5000 mAh Lithium polymer Battery',\n",
       "       '3100 mAh Li-Po Battery', '5000 mAh Li-Ion Battery',\n",
       "       '3000 mAh Li-ion Battery', '5200 mAh Li-ion Polymer Battery',\n",
       "       '4500 mAh Li-ion Battery', '4270 mAh Battery',\n",
       "       '6000 mAh Lithium-ion Battery', '4926 mAh Battery',\n",
       "       '3000 mAh Lithium Polymer Battery', '4230 mAh Battery',\n",
       "       '4000 mAh Lithium-ion Battery',\n",
       "       'A16 Bionic Chip, 6 Core Processor Processor',\n",
       "       '3300 mAh Lithium-ion Battery', '4300 mAh Battery',\n",
       "       '5160 mAh Lithium-ion Polymer Battery', '4300 mAh Lithium Battery',\n",
       "       '5000 mAh Lithium-ion Battery', '4250 mAh Battery',\n",
       "       '4500 mAh Lithium Battery', '4250 mAh Li-Polymer Battery',\n",
       "       '5018 mAh Battery', '5065 mAh Lithium-ion Polymer Battery',\n",
       "       '4500 mAh Lithium Ion Battery', '4520 mAh Battery',\n",
       "       '4610 mAh Lithium Battery', '3000 mAh Battery'], dtype=object)"
      ]
     },
     "execution_count": 41,
     "metadata": {},
     "output_type": "execute_result"
    }
   ],
   "source": [
    "df['Battery'].unique()\n"
   ]
  },
  {
   "cell_type": "code",
   "execution_count": 42,
   "id": "018e7b48",
   "metadata": {},
   "outputs": [
    {
     "data": {
      "text/plain": [
       "array([6000., 5000.,   nan, 4410., 4700., 4310., 4500., 4600., 7000.,\n",
       "       4020., 4980., 4800., 3900., 3020., 5080., 4050., 4000., 5020.,\n",
       "       4400., 3100., 3000., 5200., 4270., 4926., 4230., 3300., 4300.,\n",
       "       5160., 4250., 5018., 5065., 4520., 4610.])"
      ]
     },
     "execution_count": 42,
     "metadata": {},
     "output_type": "execute_result"
    }
   ],
   "source": [
    "# Define a lambda function to extract the numeric value\n",
    "extract_capacity = lambda x: int(x.split()[0]) if x.split()[0].isdigit() else None\n",
    "\n",
    "# Apply the lambda function to extract battery capacity\n",
    "df['Battery_Capacity'] = df['Battery'].apply(extract_capacity)\n",
    "\n",
    "df['Battery_Capacity'].unique()"
   ]
  },
  {
   "cell_type": "code",
   "execution_count": 43,
   "id": "b8be2614",
   "metadata": {},
   "outputs": [
    {
     "name": "stdout",
     "output_type": "stream",
     "text": [
      "<class 'pandas.core.frame.DataFrame'>\n",
      "Index: 661 entries, 0 to 785\n",
      "Data columns (total 15 columns):\n",
      " #   Column            Non-Null Count  Dtype  \n",
      "---  ------            --------------  -----  \n",
      " 0   Model             661 non-null    object \n",
      " 1   Stars             661 non-null    float64\n",
      " 2   Ram               661 non-null    object \n",
      " 3   Storage           661 non-null    object \n",
      " 4   Expandable        661 non-null    object \n",
      " 5   Display           661 non-null    object \n",
      " 6   Battery           661 non-null    object \n",
      " 7   Processor         661 non-null    object \n",
      " 8   Price             661 non-null    int32  \n",
      " 9   Color             661 non-null    object \n",
      " 10  Num_Ratings       661 non-null    int32  \n",
      " 11  Num_Reviews       661 non-null    int32  \n",
      " 12  RAM               661 non-null    object \n",
      " 13  Total_Cameras     661 non-null    int64  \n",
      " 14  Battery_Capacity  617 non-null    float64\n",
      "dtypes: float64(2), int32(3), int64(1), object(9)\n",
      "memory usage: 74.9+ KB\n"
     ]
    }
   ],
   "source": [
    "df.info()"
   ]
  },
  {
   "cell_type": "code",
   "execution_count": 44,
   "id": "8e6035a1",
   "metadata": {},
   "outputs": [
    {
     "data": {
      "text/plain": [
       "5000.0"
      ]
     },
     "execution_count": 44,
     "metadata": {},
     "output_type": "execute_result"
    }
   ],
   "source": [
    "df['Battery_Capacity'].mode()[0]"
   ]
  },
  {
   "cell_type": "code",
   "execution_count": 45,
   "id": "2d9aeda1",
   "metadata": {},
   "outputs": [],
   "source": [
    "# Replacing the nan values with the actual values\n",
    "df['Battery_Capacity'] = df['Battery_Capacity'].replace(np.nan, 5000)"
   ]
  },
  {
   "cell_type": "code",
   "execution_count": 46,
   "id": "f4a23d45",
   "metadata": {},
   "outputs": [
    {
     "name": "stdout",
     "output_type": "stream",
     "text": [
      "<class 'pandas.core.frame.DataFrame'>\n",
      "Index: 661 entries, 0 to 785\n",
      "Data columns (total 15 columns):\n",
      " #   Column            Non-Null Count  Dtype  \n",
      "---  ------            --------------  -----  \n",
      " 0   Model             661 non-null    object \n",
      " 1   Stars             661 non-null    float64\n",
      " 2   Ram               661 non-null    object \n",
      " 3   Storage           661 non-null    object \n",
      " 4   Expandable        661 non-null    object \n",
      " 5   Display           661 non-null    object \n",
      " 6   Battery           661 non-null    object \n",
      " 7   Processor         661 non-null    object \n",
      " 8   Price             661 non-null    int32  \n",
      " 9   Color             661 non-null    object \n",
      " 10  Num_Ratings       661 non-null    int32  \n",
      " 11  Num_Reviews       661 non-null    int32  \n",
      " 12  RAM               661 non-null    object \n",
      " 13  Total_Cameras     661 non-null    int64  \n",
      " 14  Battery_Capacity  661 non-null    float64\n",
      "dtypes: float64(2), int32(3), int64(1), object(9)\n",
      "memory usage: 74.9+ KB\n"
     ]
    }
   ],
   "source": [
    "df.info()"
   ]
  },
  {
   "cell_type": "markdown",
   "id": "d20a512f",
   "metadata": {},
   "source": [
    "* **Analysing the processor column**\n",
    "\n"
   ]
  },
  {
   "cell_type": "code",
   "execution_count": 47,
   "id": "39cd3ce0",
   "metadata": {},
   "outputs": [
    {
     "data": {
      "text/plain": [
       "array(['Exynos 850 Processor',\n",
       "       'Mediatek Helio A22 Processor, Upto 2.0 GHz Processor',\n",
       "       'Qualcomm Snapdragon 680 Processor', 'MediaTek G37 Processor',\n",
       "       '1 Year Warranty for Phone and 6 Months Warranty for In-Box Accessories',\n",
       "       'Qualcomm Snapdragon 750G Processor', 'Brand Warranty of 1 Year',\n",
       "       'Mediatek Dimensity 810 Processor', 'Mediatek Helio G85 Processor',\n",
       "       'Unisoc T606 Processor', 'Meditek Helio G37 Processor',\n",
       "       'Qualcomm Snapdragon 695 5G Processor',\n",
       "       'Mediatek Dimensity 700 Processor', 'Mediatek Helio A22 Processor',\n",
       "       'Unisoc Spreadtrum SC9863A1 Processor',\n",
       "       'Mediatek Helio G37 Processor', 'Mediatek Helio P35 Processor',\n",
       "       'UNISOC T700 Processor', 'Brand Warranty for 1 Year',\n",
       "       'Google Tensor Processor', 'Unisoc Tiger T616 Processor',\n",
       "       'Unisoc T612 Processor', 'Unisoc T616 Processor',\n",
       "       '1 Year Warranty', '12 Months Warranty',\n",
       "       'Mediatek Helio G95 Processor', 'Mediatek Helio G96 Processor',\n",
       "       'Mediatek Helio G35 Processor',\n",
       "       'Qualcomm Snapdragon 778G Processor',\n",
       "       'Mediatek Helio G99 Processor', 'Dimensity 810 Processor',\n",
       "       '12 months', 'MediaTek Helio G35 Processor',\n",
       "       'Qualcomm Snapdragon 778G 5G Mobile Platform Processor',\n",
       "       'MediaTek Helio G25 Processor', 'MediaTek G35 Processor',\n",
       "       'Mediatek Dimensity 810 5G Processor',\n",
       "       'MediaTek Helio P35 Processor', 'Mediatek Dimensity 920 Processor',\n",
       "       'Unisoc SC9863A/ Unisoc SC9863A1 Processor',\n",
       "       'Unisoc T612 processor Processor',\n",
       "       'MediaTek Dimensity 800U Processor', 'Octa-core Processor',\n",
       "       'Qualcomm Snapdragon 778G+ Processor',\n",
       "       'Qualcomm Snapdragon 662 Processor',\n",
       "       '1 YEAR ON MOBILE AND 6 MONTHS FOR ACCESORIES',\n",
       "       'Unisoc T610 Processor', 'Mediatek Helio G99 Octa Core Processor',\n",
       "       'Mediatek Dimensity 8200 Processor',\n",
       "       'Mediatek Dimensity 1080 5G Processor',\n",
       "       'Mediatek Dimensity 1080 Processor',\n",
       "       'MediaTek Helio G88 Processor',\n",
       "       '1 Year Manufacturer Warranty for Device and 6 Months Manufacturer Warranty for In-Box',\n",
       "       '1 Year of Device & 6 Months for In-Box Accessories',\n",
       "       'Qualcomm Snapdragon 778G Plus Processor',\n",
       "       'Mediatek Helio G95 Octa Core Processor',\n",
       "       '1 Year Manufacturer Warranty for Handset and 6 Months Warranty for In the Box Accessories',\n",
       "       'SEC S5E8535 (Exynos 1330) Processor', 'MediaTek P22 Processor',\n",
       "       'Qualcomm Snapdragon 695 Processor',\n",
       "       'MediaTek Helio G85 Processor', '1 Year', '12 Months',\n",
       "       '12 months on phone & 6 months on accessories',\n",
       "       'Mediatek Helio G70 Processor',\n",
       "       '12 Months brand Warranty , Domestic Only', 'Octa Core Processor',\n",
       "       'One Time Screen Replacement within 100 days of purchase 1 Year warranty on mobile device &  6 months on accessories',\n",
       "       'Qualcomm Snapdragon 8 Gen 2 Processor', 'Helio G88 Processor',\n",
       "       'Turbo Processor Snapdragon 695 Processor',\n",
       "       'One Time Screen Replacement within 100 days of purchase, 1 Year warranty on mobile device &  6 months on accessories.',\n",
       "       'Qualcomm Snapdragon 695 (SM6375) Processor',\n",
       "       'Qualcomm Snapdragon 732G Processor', 'Mediatek G96 Processor',\n",
       "       'Qualcomm Snapdragon 870 Processor',\n",
       "       'Mediatek Dimensity 900 Processor',\n",
       "       'Qualcomm Snapdragon 8 Gen 1 Processor',\n",
       "       'MediaTek Helio G37 Processor', 'MTK Helio G35 Processor',\n",
       "       'Quad Core Processor', '12 MONTHS',\n",
       "       'ARM Cortex A75 Octa Core Processor', 'Unisoc 9863A Processor',\n",
       "       '1 Year Manufacturer Warranty for Phone and 6 Months Warranty for in the Box Accessories',\n",
       "       '12 Months warranty', '12 Months Brand Warranty',\n",
       "       '1 Year Manufacturer Warranty for Device and 6 Months Manufacturer Warranty for In-Box Accessories',\n",
       "       '1 Year Manufacturer Warranty for Phone and 6 Months Warranty for In the Box Accessories',\n",
       "       'Mediatek G99 Processor', 'Mediatek MT6769 Helio G70 Processor',\n",
       "       'Ceramic Shield', 'SC9863A Processor',\n",
       "       'Exynos Octa Core Processor',\n",
       "       'MediaTek Dimensity 700 (MT6833) Processor',\n",
       "       'MediaTek Helio G85 (MT6769V/CZ) Processor',\n",
       "       'Qualcomm Snapdragon 888 + Processor',\n",
       "       'MediaTek Helio G96 Processor',\n",
       "       'Qualcomm Snapdragon 680 (SM6225) Processor',\n",
       "       'Unisoc SC9863 Processor', 'MediaTek MT8781 Helio G99 Processor',\n",
       "       'Octa-core(EXYNOS) Processor', 'Unisoc SC9863A Processor',\n",
       "       'MediaTek Helio A20 Processor',\n",
       "       '1 Year for Handset and 6 Months for Inbox Accessories',\n",
       "       'MediaTek Helio G70 Processor',\n",
       "       '\" 1 year manufacturer warranty for device and 6 months manufacturer warranty for in-box accessories including batteries from the date of purchase\"',\n",
       "       'Mediatek Dimensity 1300 Processor',\n",
       "       'Qualcomm SM6225 Snapdragon 680 4G (6 nm) Processor',\n",
       "       'MediaTek Helio G95 Processor', 'Helio A20 Processor',\n",
       "       'Unisoc T618 Processor', 'Qualcomm Snapdragon 439 Processor',\n",
       "       'Helio G25 Processor',\n",
       "       '1 year manufacturer warranty for device and 6 months manufacturer warranty for in-box accessories including batteries from the date of purchase',\n",
       "       '12Months Brand Warranty', '1 Year  Manufacturer Warranty',\n",
       "       'Google Tensor G2 Processor',\n",
       "       '1 Year Manufacturer Warranty for Phone and 6 Months Warranty for In-Box Accessories',\n",
       "       'Qualcomm Snapdragon 888 Plus (SM8350) Processor',\n",
       "       'MediaTek Helio G80 Processor', 'Mediatek Helio G25 Processor',\n",
       "       'Exynos Octa Core Processor Processor',\n",
       "       'Mediatek Helio P22 Processor', '1 year',\n",
       "       'Qualcomm Snapdragon 888 Octa-Core Processor',\n",
       "       'Qualcomm Snapdragon 860 Processor',\n",
       "       'Mediatek Dimensity 1200 Processor',\n",
       "       'Qualcomm Snapdragon 720G Processor', 'UniSoc T610 Processor',\n",
       "       'Mediatek Dimensity 9000 Processor',\n",
       "       'MediaTek Dimensity 700 Processor',\n",
       "       '1 Year warranty on mobile device &  6 months on accessories.',\n",
       "       'Mediatek Helio G88 Processor', 'Exynos 1280 Processor',\n",
       "       'MediaTek Dimensity 1200 Processor', 'Helio A22 Processor',\n",
       "       'Mediatek Dimensity 8100 Processor', 'Snapdragon 720G Processor',\n",
       "       'Qualcomm Snapdragon 888 Processor',\n",
       "       'Qualcomm Snapdragon 730G Processor',\n",
       "       'Qualcomm Snapdragon 8+ Gen 1 Processor',\n",
       "       '1 year manufacturing warranty for mobile and 6 months for box accessories'],\n",
       "      dtype=object)"
      ]
     },
     "execution_count": 47,
     "metadata": {},
     "output_type": "execute_result"
    }
   ],
   "source": [
    "df['Processor'].unique()"
   ]
  },
  {
   "cell_type": "code",
   "execution_count": 48,
   "id": "58728012",
   "metadata": {},
   "outputs": [],
   "source": [
    "df['Processor'].replace(['1 Year Warranty for Phone and 6 Months Warranty for In-Box Accessories',\n",
    "                              'Brand Warranty of 1 Year',\n",
    "                              'Brand Warranty for 1 Year',\n",
    "                              '1 Year Warranty',\n",
    "                              '12 Months Warranty',\n",
    "                              '1 YEAR ON MOBILE AND 6 MONTHS FOR ACCESORIES',\n",
    "                              '1 Year Manufacturer Warranty for Device and 6 Months Manufacturer Warranty for In-Box',\n",
    "                              '1 Year of Device & 6 Months for In-Box Accessories',\n",
    "                              '1 Year Manufacturer Warranty for Handset and 6 Months Warranty for In the Box Accessories',\n",
    "                              '12 months on phone & 6 months on accessories',\n",
    "                              '12 Months brand Warranty , Domestic Only',\n",
    "                              'One Time Screen Replacement within 100 days of purchase 1 Year warranty on mobile device & 6 months on accessories',\n",
    "                              'One Time Screen Replacement within 100 days of purchase, 1 Year warranty on mobile device & 6 months on accessories.',\n",
    "                              '12 MONTHS', \n",
    "                              '12 Months warranty',\n",
    "                              '12 Months Brand Warranty',\n",
    "                             '12 months',\n",
    "                              '12 Months',\n",
    "                              'One Time Screen Replacement within 100 days of purchase 1 Year warranty on mobile device &  6 months on accessories',\n",
    "                              'One Time Screen Replacement within 100 days of purchase, 1 Year warranty on mobile device &  6 months on accessories.',\n",
    "                              '1 Year Manufacturer Warranty for Phone and 6 Months Warranty for in the Box Accessories',\n",
    "                              '1 Year Manufacturer Warranty for Device and 6 Months Manufacturer Warranty for In-Box Accessories',\n",
    "                              '1 Year Manufacturer Warranty for Phone and 6 Months Warranty for In the Box Accessories',\n",
    "                              '1 Year for Handset and 6 Months for Inbox Accessories',\n",
    "                              '\" 1 year manufacturer warranty for device and 6 months manufacturer warranty for in-box accessories including batteries from the date of purchase\"',\n",
    "                              '1 year manufacturer warranty for device and 6 months manufacturer warranty for in-box accessories including batteries from the date of purchase',\n",
    "                              '12Months Brand Warranty',\n",
    "                              '1 Year  Manufacturer Warranty',\n",
    "                              '1 Year Manufacturer Warranty for Phone and 6 Months Warranty for In-Box Accessories',\n",
    "                              '1 Year warranty on mobile device &  6 months on accessories.',\n",
    "                              '1 year manufacturing warranty for mobile and 6 months for box accessories',\n",
    "                              '1 Year',\n",
    "                              ], np.nan, inplace=True)"
   ]
  },
  {
   "cell_type": "code",
   "execution_count": 49,
   "id": "26775cc3",
   "metadata": {},
   "outputs": [
    {
     "data": {
      "text/plain": [
       "array(['Exynos 850 Processor',\n",
       "       'Mediatek Helio A22 Processor, Upto 2.0 GHz Processor',\n",
       "       'Qualcomm Snapdragon 680 Processor', 'MediaTek G37 Processor', nan,\n",
       "       'Qualcomm Snapdragon 750G Processor',\n",
       "       'Mediatek Dimensity 810 Processor', 'Mediatek Helio G85 Processor',\n",
       "       'Unisoc T606 Processor', 'Meditek Helio G37 Processor',\n",
       "       'Qualcomm Snapdragon 695 5G Processor',\n",
       "       'Mediatek Dimensity 700 Processor', 'Mediatek Helio A22 Processor',\n",
       "       'Unisoc Spreadtrum SC9863A1 Processor',\n",
       "       'Mediatek Helio G37 Processor', 'Mediatek Helio P35 Processor',\n",
       "       'UNISOC T700 Processor', 'Google Tensor Processor',\n",
       "       'Unisoc Tiger T616 Processor', 'Unisoc T612 Processor',\n",
       "       'Unisoc T616 Processor', 'Mediatek Helio G95 Processor',\n",
       "       'Mediatek Helio G96 Processor', 'Mediatek Helio G35 Processor',\n",
       "       'Qualcomm Snapdragon 778G Processor',\n",
       "       'Mediatek Helio G99 Processor', 'Dimensity 810 Processor',\n",
       "       'MediaTek Helio G35 Processor',\n",
       "       'Qualcomm Snapdragon 778G 5G Mobile Platform Processor',\n",
       "       'MediaTek Helio G25 Processor', 'MediaTek G35 Processor',\n",
       "       'Mediatek Dimensity 810 5G Processor',\n",
       "       'MediaTek Helio P35 Processor', 'Mediatek Dimensity 920 Processor',\n",
       "       'Unisoc SC9863A/ Unisoc SC9863A1 Processor',\n",
       "       'Unisoc T612 processor Processor',\n",
       "       'MediaTek Dimensity 800U Processor', 'Octa-core Processor',\n",
       "       'Qualcomm Snapdragon 778G+ Processor',\n",
       "       'Qualcomm Snapdragon 662 Processor', 'Unisoc T610 Processor',\n",
       "       'Mediatek Helio G99 Octa Core Processor',\n",
       "       'Mediatek Dimensity 8200 Processor',\n",
       "       'Mediatek Dimensity 1080 5G Processor',\n",
       "       'Mediatek Dimensity 1080 Processor',\n",
       "       'MediaTek Helio G88 Processor',\n",
       "       'Qualcomm Snapdragon 778G Plus Processor',\n",
       "       'Mediatek Helio G95 Octa Core Processor',\n",
       "       'SEC S5E8535 (Exynos 1330) Processor', 'MediaTek P22 Processor',\n",
       "       'Qualcomm Snapdragon 695 Processor',\n",
       "       'MediaTek Helio G85 Processor', 'Mediatek Helio G70 Processor',\n",
       "       'Octa Core Processor', 'Qualcomm Snapdragon 8 Gen 2 Processor',\n",
       "       'Helio G88 Processor', 'Turbo Processor Snapdragon 695 Processor',\n",
       "       'Qualcomm Snapdragon 695 (SM6375) Processor',\n",
       "       'Qualcomm Snapdragon 732G Processor', 'Mediatek G96 Processor',\n",
       "       'Qualcomm Snapdragon 870 Processor',\n",
       "       'Mediatek Dimensity 900 Processor',\n",
       "       'Qualcomm Snapdragon 8 Gen 1 Processor',\n",
       "       'MediaTek Helio G37 Processor', 'MTK Helio G35 Processor',\n",
       "       'Quad Core Processor', 'ARM Cortex A75 Octa Core Processor',\n",
       "       'Unisoc 9863A Processor', 'Mediatek G99 Processor',\n",
       "       'Mediatek MT6769 Helio G70 Processor', 'Ceramic Shield',\n",
       "       'SC9863A Processor', 'Exynos Octa Core Processor',\n",
       "       'MediaTek Dimensity 700 (MT6833) Processor',\n",
       "       'MediaTek Helio G85 (MT6769V/CZ) Processor',\n",
       "       'Qualcomm Snapdragon 888 + Processor',\n",
       "       'MediaTek Helio G96 Processor',\n",
       "       'Qualcomm Snapdragon 680 (SM6225) Processor',\n",
       "       'Unisoc SC9863 Processor', 'MediaTek MT8781 Helio G99 Processor',\n",
       "       'Octa-core(EXYNOS) Processor', 'Unisoc SC9863A Processor',\n",
       "       'MediaTek Helio A20 Processor', 'MediaTek Helio G70 Processor',\n",
       "       'Mediatek Dimensity 1300 Processor',\n",
       "       'Qualcomm SM6225 Snapdragon 680 4G (6 nm) Processor',\n",
       "       'MediaTek Helio G95 Processor', 'Helio A20 Processor',\n",
       "       'Unisoc T618 Processor', 'Qualcomm Snapdragon 439 Processor',\n",
       "       'Helio G25 Processor', 'Google Tensor G2 Processor',\n",
       "       'Qualcomm Snapdragon 888 Plus (SM8350) Processor',\n",
       "       'MediaTek Helio G80 Processor', 'Mediatek Helio G25 Processor',\n",
       "       'Exynos Octa Core Processor Processor',\n",
       "       'Mediatek Helio P22 Processor', '1 year',\n",
       "       'Qualcomm Snapdragon 888 Octa-Core Processor',\n",
       "       'Qualcomm Snapdragon 860 Processor',\n",
       "       'Mediatek Dimensity 1200 Processor',\n",
       "       'Qualcomm Snapdragon 720G Processor', 'UniSoc T610 Processor',\n",
       "       'Mediatek Dimensity 9000 Processor',\n",
       "       'MediaTek Dimensity 700 Processor', 'Mediatek Helio G88 Processor',\n",
       "       'Exynos 1280 Processor', 'MediaTek Dimensity 1200 Processor',\n",
       "       'Helio A22 Processor', 'Mediatek Dimensity 8100 Processor',\n",
       "       'Snapdragon 720G Processor', 'Qualcomm Snapdragon 888 Processor',\n",
       "       'Qualcomm Snapdragon 730G Processor',\n",
       "       'Qualcomm Snapdragon 8+ Gen 1 Processor'], dtype=object)"
      ]
     },
     "execution_count": 49,
     "metadata": {},
     "output_type": "execute_result"
    }
   ],
   "source": [
    "df['Processor'].unique()"
   ]
  },
  {
   "cell_type": "code",
   "execution_count": 50,
   "id": "cd3f7be8",
   "metadata": {},
   "outputs": [
    {
     "data": {
      "text/plain": [
       "(661, 15)"
      ]
     },
     "execution_count": 50,
     "metadata": {},
     "output_type": "execute_result"
    }
   ],
   "source": [
    "df.shape"
   ]
  },
  {
   "cell_type": "code",
   "execution_count": 51,
   "id": "60f7d524",
   "metadata": {},
   "outputs": [
    {
     "data": {
      "text/html": [
       "<div>\n",
       "<style scoped>\n",
       "    .dataframe tbody tr th:only-of-type {\n",
       "        vertical-align: middle;\n",
       "    }\n",
       "\n",
       "    .dataframe tbody tr th {\n",
       "        vertical-align: top;\n",
       "    }\n",
       "\n",
       "    .dataframe thead th {\n",
       "        text-align: right;\n",
       "    }\n",
       "</style>\n",
       "<table border=\"1\" class=\"dataframe\">\n",
       "  <thead>\n",
       "    <tr style=\"text-align: right;\">\n",
       "      <th></th>\n",
       "      <th>Model</th>\n",
       "      <th>Stars</th>\n",
       "      <th>Ram</th>\n",
       "      <th>Storage</th>\n",
       "      <th>Expandable</th>\n",
       "      <th>Display</th>\n",
       "      <th>Battery</th>\n",
       "      <th>Processor</th>\n",
       "      <th>Price</th>\n",
       "      <th>Color</th>\n",
       "      <th>Num_Ratings</th>\n",
       "      <th>Num_Reviews</th>\n",
       "      <th>RAM</th>\n",
       "      <th>Total_Cameras</th>\n",
       "      <th>Battery_Capacity</th>\n",
       "    </tr>\n",
       "  </thead>\n",
       "  <tbody>\n",
       "    <tr>\n",
       "      <th>0</th>\n",
       "      <td>SAMSUNG Galaxy F13</td>\n",
       "      <td>4.4</td>\n",
       "      <td>4 GB RAM</td>\n",
       "      <td>64 GB ROM</td>\n",
       "      <td>Expandable Upto 1 TB</td>\n",
       "      <td>6.6</td>\n",
       "      <td>6000 mAh Lithium Ion Battery</td>\n",
       "      <td>Exynos 850 Processor</td>\n",
       "      <td>9699</td>\n",
       "      <td>Waterfall Blue</td>\n",
       "      <td>126250</td>\n",
       "      <td>7344</td>\n",
       "      <td>4 GB RAM</td>\n",
       "      <td>4</td>\n",
       "      <td>6000.0</td>\n",
       "    </tr>\n",
       "    <tr>\n",
       "      <th>1</th>\n",
       "      <td>POCO C50</td>\n",
       "      <td>4.4</td>\n",
       "      <td>2 GB RAM</td>\n",
       "      <td>32 GB ROM</td>\n",
       "      <td>Expandable Upto 512 GB</td>\n",
       "      <td>6.52</td>\n",
       "      <td>5000 mAh Lithium Polymer Battery</td>\n",
       "      <td>Mediatek Helio A22 Processor, Upto 2.0 GHz Pro...</td>\n",
       "      <td>5749</td>\n",
       "      <td>Country Green</td>\n",
       "      <td>3204</td>\n",
       "      <td>151</td>\n",
       "      <td>2 GB RAM</td>\n",
       "      <td>2</td>\n",
       "      <td>5000.0</td>\n",
       "    </tr>\n",
       "    <tr>\n",
       "      <th>2</th>\n",
       "      <td>POCO C50</td>\n",
       "      <td>4.4</td>\n",
       "      <td>2 GB RAM</td>\n",
       "      <td>32 GB ROM</td>\n",
       "      <td>Expandable Upto 512 GB</td>\n",
       "      <td>6.52</td>\n",
       "      <td>5000 mAh Lithium Polymer Battery</td>\n",
       "      <td>Mediatek Helio A22 Processor, Upto 2.0 GHz Pro...</td>\n",
       "      <td>5749</td>\n",
       "      <td>Royal Blue</td>\n",
       "      <td>3204</td>\n",
       "      <td>151</td>\n",
       "      <td>2 GB RAM</td>\n",
       "      <td>2</td>\n",
       "      <td>5000.0</td>\n",
       "    </tr>\n",
       "    <tr>\n",
       "      <th>3</th>\n",
       "      <td>REDMI 10</td>\n",
       "      <td>4.3</td>\n",
       "      <td>4 GB RAM</td>\n",
       "      <td>64 GB ROM</td>\n",
       "      <td>Expandable Upto 1 TB</td>\n",
       "      <td>6.7</td>\n",
       "      <td>6000 mAh Lithium Polymer Battery</td>\n",
       "      <td>Qualcomm Snapdragon 680 Processor</td>\n",
       "      <td>9299</td>\n",
       "      <td>Caribbean Green</td>\n",
       "      <td>193536</td>\n",
       "      <td>12428</td>\n",
       "      <td>4 GB RAM</td>\n",
       "      <td>3</td>\n",
       "      <td>6000.0</td>\n",
       "    </tr>\n",
       "    <tr>\n",
       "      <th>4</th>\n",
       "      <td>REDMI 10</td>\n",
       "      <td>4.3</td>\n",
       "      <td>4 GB RAM</td>\n",
       "      <td>64 GB ROM</td>\n",
       "      <td>Expandable Upto 1 TB</td>\n",
       "      <td>6.7</td>\n",
       "      <td>6000 mAh Lithium Polymer Battery</td>\n",
       "      <td>Qualcomm Snapdragon 680 Processor</td>\n",
       "      <td>9299</td>\n",
       "      <td>Pacific Blue</td>\n",
       "      <td>193536</td>\n",
       "      <td>12428</td>\n",
       "      <td>4 GB RAM</td>\n",
       "      <td>3</td>\n",
       "      <td>6000.0</td>\n",
       "    </tr>\n",
       "  </tbody>\n",
       "</table>\n",
       "</div>"
      ],
      "text/plain": [
       "                 Model  Stars        Ram    Storage              Expandable  \\\n",
       "0  SAMSUNG Galaxy F13     4.4  4 GB RAM   64 GB ROM    Expandable Upto 1 TB   \n",
       "1            POCO C50     4.4  2 GB RAM   32 GB ROM  Expandable Upto 512 GB   \n",
       "2            POCO C50     4.4  2 GB RAM   32 GB ROM  Expandable Upto 512 GB   \n",
       "3            REDMI 10     4.3  4 GB RAM   64 GB ROM    Expandable Upto 1 TB   \n",
       "4            REDMI 10     4.3  4 GB RAM   64 GB ROM    Expandable Upto 1 TB   \n",
       "\n",
       "  Display                           Battery  \\\n",
       "0     6.6      6000 mAh Lithium Ion Battery   \n",
       "1    6.52  5000 mAh Lithium Polymer Battery   \n",
       "2    6.52  5000 mAh Lithium Polymer Battery   \n",
       "3     6.7  6000 mAh Lithium Polymer Battery   \n",
       "4     6.7  6000 mAh Lithium Polymer Battery   \n",
       "\n",
       "                                           Processor  Price            Color  \\\n",
       "0                               Exynos 850 Processor   9699   Waterfall Blue   \n",
       "1  Mediatek Helio A22 Processor, Upto 2.0 GHz Pro...   5749    Country Green   \n",
       "2  Mediatek Helio A22 Processor, Upto 2.0 GHz Pro...   5749       Royal Blue   \n",
       "3                  Qualcomm Snapdragon 680 Processor   9299  Caribbean Green   \n",
       "4                  Qualcomm Snapdragon 680 Processor   9299     Pacific Blue   \n",
       "\n",
       "   Num_Ratings  Num_Reviews        RAM  Total_Cameras  Battery_Capacity  \n",
       "0       126250         7344  4 GB RAM               4            6000.0  \n",
       "1         3204          151  2 GB RAM               2            5000.0  \n",
       "2         3204          151  2 GB RAM               2            5000.0  \n",
       "3       193536        12428  4 GB RAM               3            6000.0  \n",
       "4       193536        12428  4 GB RAM               3            6000.0  "
      ]
     },
     "execution_count": 51,
     "metadata": {},
     "output_type": "execute_result"
    }
   ],
   "source": [
    "df.head()"
   ]
  },
  {
   "cell_type": "code",
   "execution_count": 52,
   "id": "2e13709e",
   "metadata": {},
   "outputs": [
    {
     "data": {
      "text/plain": [
       "array(['Exynos', 'Mediatek', 'Qualcomm', 'MediaTek', None, 'Unisoc',\n",
       "       'Meditek', 'UNISOC', 'Google', 'Dimensity', 'Octa-core', 'SEC',\n",
       "       'Octa', 'Helio', 'Turbo', 'MTK', 'Quad', 'ARM', 'Ceramic',\n",
       "       'SC9863A', 'Octa-core(EXYNOS)', '1', 'UniSoc', 'Snapdragon'],\n",
       "      dtype=object)"
      ]
     },
     "execution_count": 52,
     "metadata": {},
     "output_type": "execute_result"
    }
   ],
   "source": [
    "# Define a lambda function to extract the first word safely\n",
    "extract_first_word = lambda x: x.split()[0] if isinstance(x, str) else None\n",
    "\n",
    "# Apply the lambda function to extract the first word from each processor specification\n",
    "df['Processor_Brand'] = df['Processor'].apply(extract_first_word)\n",
    "\n",
    "df['Processor_Brand'].unique()"
   ]
  },
  {
   "cell_type": "code",
   "execution_count": 53,
   "id": "03cef366",
   "metadata": {},
   "outputs": [
    {
     "data": {
      "text/plain": [
       "Model                 0\n",
       "Stars                 0\n",
       "Ram                   0\n",
       "Storage               0\n",
       "Expandable            0\n",
       "Display               0\n",
       "Battery               0\n",
       "Processor           147\n",
       "Price                 0\n",
       "Color                 0\n",
       "Num_Ratings           0\n",
       "Num_Reviews           0\n",
       "RAM                   0\n",
       "Total_Cameras         0\n",
       "Battery_Capacity      0\n",
       "Processor_Brand     147\n",
       "dtype: int64"
      ]
     },
     "execution_count": 53,
     "metadata": {},
     "output_type": "execute_result"
    }
   ],
   "source": [
    "df.isnull().sum()\n"
   ]
  },
  {
   "cell_type": "code",
   "execution_count": 54,
   "id": "2c3b59a9",
   "metadata": {},
   "outputs": [],
   "source": [
    "mode_val = df['Processor_Brand'].mode()[0]"
   ]
  },
  {
   "cell_type": "code",
   "execution_count": 55,
   "id": "423c2923",
   "metadata": {},
   "outputs": [],
   "source": [
    "df['Processor_Brand'] = df['Processor_Brand'].fillna(mode_val)"
   ]
  },
  {
   "cell_type": "code",
   "execution_count": 56,
   "id": "791b7780",
   "metadata": {},
   "outputs": [],
   "source": [
    "df=df.drop(columns = ['Battery', 'Processor'], axis =1)    "
   ]
  },
  {
   "cell_type": "code",
   "execution_count": 57,
   "id": "ba1daafb",
   "metadata": {},
   "outputs": [
    {
     "data": {
      "text/plain": [
       "Model               0\n",
       "Stars               0\n",
       "Ram                 0\n",
       "Storage             0\n",
       "Expandable          0\n",
       "Display             0\n",
       "Price               0\n",
       "Color               0\n",
       "Num_Ratings         0\n",
       "Num_Reviews         0\n",
       "RAM                 0\n",
       "Total_Cameras       0\n",
       "Battery_Capacity    0\n",
       "Processor_Brand     0\n",
       "dtype: int64"
      ]
     },
     "execution_count": 57,
     "metadata": {},
     "output_type": "execute_result"
    }
   ],
   "source": [
    "df.isnull().sum()"
   ]
  },
  {
   "cell_type": "code",
   "execution_count": 58,
   "id": "e86d7eab",
   "metadata": {},
   "outputs": [
    {
     "data": {
      "text/html": [
       "<div>\n",
       "<style scoped>\n",
       "    .dataframe tbody tr th:only-of-type {\n",
       "        vertical-align: middle;\n",
       "    }\n",
       "\n",
       "    .dataframe tbody tr th {\n",
       "        vertical-align: top;\n",
       "    }\n",
       "\n",
       "    .dataframe thead th {\n",
       "        text-align: right;\n",
       "    }\n",
       "</style>\n",
       "<table border=\"1\" class=\"dataframe\">\n",
       "  <thead>\n",
       "    <tr style=\"text-align: right;\">\n",
       "      <th></th>\n",
       "      <th>Model</th>\n",
       "      <th>Stars</th>\n",
       "      <th>Ram</th>\n",
       "      <th>Storage</th>\n",
       "      <th>Expandable</th>\n",
       "      <th>Display</th>\n",
       "      <th>Price</th>\n",
       "      <th>Color</th>\n",
       "      <th>Num_Ratings</th>\n",
       "      <th>Num_Reviews</th>\n",
       "      <th>RAM</th>\n",
       "      <th>Total_Cameras</th>\n",
       "      <th>Battery_Capacity</th>\n",
       "      <th>Processor_Brand</th>\n",
       "    </tr>\n",
       "  </thead>\n",
       "  <tbody>\n",
       "    <tr>\n",
       "      <th>0</th>\n",
       "      <td>SAMSUNG Galaxy F13</td>\n",
       "      <td>4.4</td>\n",
       "      <td>4 GB RAM</td>\n",
       "      <td>64 GB ROM</td>\n",
       "      <td>Expandable Upto 1 TB</td>\n",
       "      <td>6.6</td>\n",
       "      <td>9699</td>\n",
       "      <td>Waterfall Blue</td>\n",
       "      <td>126250</td>\n",
       "      <td>7344</td>\n",
       "      <td>4 GB RAM</td>\n",
       "      <td>4</td>\n",
       "      <td>6000.0</td>\n",
       "      <td>Exynos</td>\n",
       "    </tr>\n",
       "    <tr>\n",
       "      <th>1</th>\n",
       "      <td>POCO C50</td>\n",
       "      <td>4.4</td>\n",
       "      <td>2 GB RAM</td>\n",
       "      <td>32 GB ROM</td>\n",
       "      <td>Expandable Upto 512 GB</td>\n",
       "      <td>6.52</td>\n",
       "      <td>5749</td>\n",
       "      <td>Country Green</td>\n",
       "      <td>3204</td>\n",
       "      <td>151</td>\n",
       "      <td>2 GB RAM</td>\n",
       "      <td>2</td>\n",
       "      <td>5000.0</td>\n",
       "      <td>Mediatek</td>\n",
       "    </tr>\n",
       "    <tr>\n",
       "      <th>2</th>\n",
       "      <td>POCO C50</td>\n",
       "      <td>4.4</td>\n",
       "      <td>2 GB RAM</td>\n",
       "      <td>32 GB ROM</td>\n",
       "      <td>Expandable Upto 512 GB</td>\n",
       "      <td>6.52</td>\n",
       "      <td>5749</td>\n",
       "      <td>Royal Blue</td>\n",
       "      <td>3204</td>\n",
       "      <td>151</td>\n",
       "      <td>2 GB RAM</td>\n",
       "      <td>2</td>\n",
       "      <td>5000.0</td>\n",
       "      <td>Mediatek</td>\n",
       "    </tr>\n",
       "    <tr>\n",
       "      <th>3</th>\n",
       "      <td>REDMI 10</td>\n",
       "      <td>4.3</td>\n",
       "      <td>4 GB RAM</td>\n",
       "      <td>64 GB ROM</td>\n",
       "      <td>Expandable Upto 1 TB</td>\n",
       "      <td>6.7</td>\n",
       "      <td>9299</td>\n",
       "      <td>Caribbean Green</td>\n",
       "      <td>193536</td>\n",
       "      <td>12428</td>\n",
       "      <td>4 GB RAM</td>\n",
       "      <td>3</td>\n",
       "      <td>6000.0</td>\n",
       "      <td>Qualcomm</td>\n",
       "    </tr>\n",
       "    <tr>\n",
       "      <th>4</th>\n",
       "      <td>REDMI 10</td>\n",
       "      <td>4.3</td>\n",
       "      <td>4 GB RAM</td>\n",
       "      <td>64 GB ROM</td>\n",
       "      <td>Expandable Upto 1 TB</td>\n",
       "      <td>6.7</td>\n",
       "      <td>9299</td>\n",
       "      <td>Pacific Blue</td>\n",
       "      <td>193536</td>\n",
       "      <td>12428</td>\n",
       "      <td>4 GB RAM</td>\n",
       "      <td>3</td>\n",
       "      <td>6000.0</td>\n",
       "      <td>Qualcomm</td>\n",
       "    </tr>\n",
       "  </tbody>\n",
       "</table>\n",
       "</div>"
      ],
      "text/plain": [
       "                 Model  Stars        Ram    Storage              Expandable  \\\n",
       "0  SAMSUNG Galaxy F13     4.4  4 GB RAM   64 GB ROM    Expandable Upto 1 TB   \n",
       "1            POCO C50     4.4  2 GB RAM   32 GB ROM  Expandable Upto 512 GB   \n",
       "2            POCO C50     4.4  2 GB RAM   32 GB ROM  Expandable Upto 512 GB   \n",
       "3            REDMI 10     4.3  4 GB RAM   64 GB ROM    Expandable Upto 1 TB   \n",
       "4            REDMI 10     4.3  4 GB RAM   64 GB ROM    Expandable Upto 1 TB   \n",
       "\n",
       "  Display  Price            Color  Num_Ratings  Num_Reviews        RAM  \\\n",
       "0     6.6   9699   Waterfall Blue       126250         7344  4 GB RAM    \n",
       "1    6.52   5749    Country Green         3204          151  2 GB RAM    \n",
       "2    6.52   5749       Royal Blue         3204          151  2 GB RAM    \n",
       "3     6.7   9299  Caribbean Green       193536        12428  4 GB RAM    \n",
       "4     6.7   9299     Pacific Blue       193536        12428  4 GB RAM    \n",
       "\n",
       "   Total_Cameras  Battery_Capacity Processor_Brand  \n",
       "0              4            6000.0          Exynos  \n",
       "1              2            5000.0        Mediatek  \n",
       "2              2            5000.0        Mediatek  \n",
       "3              3            6000.0        Qualcomm  \n",
       "4              3            6000.0        Qualcomm  "
      ]
     },
     "execution_count": 58,
     "metadata": {},
     "output_type": "execute_result"
    }
   ],
   "source": [
    "df.head()"
   ]
  },
  {
   "cell_type": "code",
   "execution_count": 59,
   "id": "c6856f7c",
   "metadata": {},
   "outputs": [
    {
     "data": {
      "text/plain": [
       "array(['Exynos', 'Mediatek', 'Qualcomm', 'MediaTek', 'Unisoc', 'Meditek',\n",
       "       'UNISOC', 'Google', 'Dimensity', 'Octa-core', 'SEC', 'Octa',\n",
       "       'Helio', 'Turbo', 'MTK', 'Quad', 'ARM', 'Ceramic', 'SC9863A',\n",
       "       'Octa-core(EXYNOS)', '1', 'UniSoc', 'Snapdragon'], dtype=object)"
      ]
     },
     "execution_count": 59,
     "metadata": {},
     "output_type": "execute_result"
    }
   ],
   "source": [
    "df['Processor_Brand'].unique()"
   ]
  },
  {
   "cell_type": "code",
   "execution_count": 60,
   "id": "d6f5b699",
   "metadata": {},
   "outputs": [],
   "source": [
    "# create a function to map processor names to categories\n",
    "def map_processor_name(name):\n",
    "    if \"mediatek\" in name.lower():\n",
    "        return \"Mediatek processor\"\n",
    "    elif \"qualcomm\" in name.lower():\n",
    "        return \"Qualcomm processor\"\n",
    "    elif \"unisoc\" in name.lower():\n",
    "        return \"Unisoc processor\"\n",
    "    elif \"exynos\" in name.lower():\n",
    "        return \"Exynos processor\"\n",
    "    elif \"tensor\" in name.lower():\n",
    "        return \"Google Tensor processor\"\n",
    "    elif \"helio\" in name.lower():\n",
    "        return \"Helio processor\"\n",
    "    elif \"snapdragon\" in name.lower():\n",
    "        return \"Snapdragon processor\"\n",
    "    else:\n",
    "        return \"Other processor\"\n",
    "\n",
    "# apply the function to the processor_name column\n",
    "df['Processor_Brand'] = df['Processor_Brand'].apply(map_processor_name)"
   ]
  },
  {
   "cell_type": "code",
   "execution_count": 61,
   "id": "281e9044",
   "metadata": {},
   "outputs": [
    {
     "data": {
      "text/plain": [
       "array(['Exynos processor', 'Mediatek processor', 'Qualcomm processor',\n",
       "       'Unisoc processor', 'Other processor', 'Helio processor',\n",
       "       'Snapdragon processor'], dtype=object)"
      ]
     },
     "execution_count": 61,
     "metadata": {},
     "output_type": "execute_result"
    }
   ],
   "source": [
    "df.Processor_Brand.unique()\n"
   ]
  },
  {
   "cell_type": "markdown",
   "id": "ba2d51f2",
   "metadata": {},
   "source": [
    "* **Analysing the Colour Column**\n",
    "\n"
   ]
  },
  {
   "cell_type": "code",
   "execution_count": 62,
   "id": "fce87deb",
   "metadata": {},
   "outputs": [
    {
     "data": {
      "text/plain": [
       "array(['Waterfall Blue', 'Country Green', 'Royal Blue', 'Caribbean Green',\n",
       "       'Pacific Blue', 'Nightsky Green', 'Midnight Black', 'Aurora Green',\n",
       "       'Racing Black', 'Fantasy Purple', 'Luna Blue', 'Sunrise Copper',\n",
       "       'Purple', 'Forest Green', 'Shadow Black', 'White', 'Aqua Blue',\n",
       "       'Yellow', 'Charcoal Grey', 'Baby Blue', 'Copper Blush',\n",
       "       'Metallic White', 'Sunrise Orange', 'Blue', 'Creamy White',\n",
       "       'Exploratory Blue', '7° Purple', 'Meteorite Grey', 'Alpine White',\n",
       "       'Black', 'Laser Blue', 'Power Black', 'Frosted Blue',\n",
       "       'Force Black', 'Origin Blue', 'Aqua Sky', 'Night Black',\n",
       "       'Azure Blue', 'Mineral Gray', 'Cosmic Black', 'Satin Silver',\n",
       "       'Midnight Gray', 'Turquoise Cyan', 'Polar Black', 'Laser Black',\n",
       "       'Jade Purple', 'Cool Blue', 'Carbon Gray', 'Midnight',\n",
       "       'Metaverse Blue', 'Starlight', 'Opal Green', 'Starry Sky',\n",
       "       'Midnight Galaxy', 'Chalk', 'Glowing Black', 'Denim Black',\n",
       "       'Electric Blue', 'Space Blue', 'Gravity Black', 'Pink',\n",
       "       'Glowing Green', 'Deep Ocean Blue', 'Mystique Green',\n",
       "       'Frost White', 'Meterorite Grey', 'Lake Blue', 'Horizon Blue',\n",
       "       'Polar Blue', 'Gold', 'Blaster Green', 'Navy Blue', 'Slate Grey',\n",
       "       'Sea Blue', 'Charcoal Black', 'Charcoal', 'Shadow Gray',\n",
       "       'Night Sea', 'Bamboo Green', 'Sandy Gold', 'Turbo Cyan',\n",
       "       'Lightsaber Green', 'Carbon Black', 'Astral Black', 'Light Blue',\n",
       "       'Arctic Blue', 'Black Dusk', 'Rocking Black', 'Dark Blue',\n",
       "       'Submariner Black', 'Turbo Black', 'Starburst White',\n",
       "       'Metallica Gold', 'Speed Blue', 'Stripe Black', 'Stripe Blue',\n",
       "       'Agate Black', 'Halo White', 'Space Silver', 'Fluid Black',\n",
       "       'Cool Grey', 'Soulful Blue', 'Sapphire Blue', 'Dawn Gold',\n",
       "       'Snowfall', 'Space Black', 'Coral Green', 'Midnight Blue',\n",
       "       'Chrome Silver', 'Thunder Black', 'FLASH BLUE', 'Sunlight Orange',\n",
       "       'Speed Black', 'Wave Green', 'White Lily', 'Silver',\n",
       "       'Metallic Blue', 'Black Engine', 'Rush Black', 'Clash White',\n",
       "       'Noble Black', 'Mint Green', 'Aqua Green', 'Drizzling Gold',\n",
       "       'Hyperspace', 'Tuscany Blue', 'Dark Matter', 'Nebula Blue',\n",
       "       'Blue Tide', 'Emerald Brown', 'Glacier Blue', 'Eco Black',\n",
       "       'Jewel Blue', 'Sporty Orange', 'Mint', 'Starry Black',\n",
       "       'Emarld Brown', 'Icy Blue', 'Diamond Glow', 'Steller Black',\n",
       "       'Prism Black', 'Tech Silver', 'Bronze', 'Cosmic White',\n",
       "       'Slate grey', 'Meteor Grey', 'Sunset Orange', 'Glowing Gold',\n",
       "       'Volcanic Grey', 'Stardust Purple', 'Onyx Black', 'Obsidian Black',\n",
       "       'Light Green', 'Elegant Black', 'Orchid Blue', 'Sunrise Gold',\n",
       "       'Sea Salt White', 'Lumina Blue', 'Matte Black', 'Frosted Green',\n",
       "       'Stellar Green', 'Mystic Night', 'Metaverse Green', 'Onyx',\n",
       "       'Deep Ocean Black', 'Brown', 'Champagne Gold', 'Lavender',\n",
       "       'Mystique Blue', 'Magic Blue', 'Astral White', 'Ocean Blue',\n",
       "       'Rainbow Fantasy', 'Sky Black', 'Stealth Black', 'Raven Black',\n",
       "       'Daylight Green', 'Light Sea Green', 'Cosmic Grey',\n",
       "       'Frosted Champagne', 'Coral Orange', 'Dancing waves',\n",
       "       'Iceberg Blue', 'Twilight Gold', 'Cosmos Blue', 'Infinity Black',\n",
       "       'Orange', 'Starlight Black', 'Dark Nova', 'Sky Cyan',\n",
       "       'Crystal Purple', 'Starry Purple', 'Glowing Blue',\n",
       "       'Heart Of Ocean', 'Polar White', 'Interstellar Black',\n",
       "       'Flash Black', 'Starry Gold', 'Glitter Gold', 'Phantom Black',\n",
       "       'Dawnlight Gold', 'Dark Red', 'Pebble Grey', 'Moonless',\n",
       "       'Rainbow Blue', 'Light Silver', 'Bifrost Blue', 'Dome Blue',\n",
       "       'Sierra Black', 'Stargaze White', 'Meteor Black',\n",
       "       'Supersonic Black', 'Arctic White', 'Green', 'Cross Black',\n",
       "       'Cross Blue', 'Cream', 'Vintage Bronze', 'Cosmic grey',\n",
       "       'Space Purple', 'Flash Blue', 'Olive', 'Prism Blue',\n",
       "       'Atlantic Green', 'PRODUCT)RED', 'Tahiti Blue', 'DEEP GRAY',\n",
       "       'Supersonic Blue', 'Metallic Rose', 'Stardust White',\n",
       "       'Cryolite Blue', 'Multi Green', 'Peach', 'Pink Clay',\n",
       "       'Meadow Green', 'Sunrise Blue', 'Graphite', 'Ocean Wave',\n",
       "       'Blue Flame', 'Black Carbon', 'Silver Wave', 'Green Fantasy',\n",
       "       'Flashy Black', 'Playful Green', 'Copper', 'Stardust Brown',\n",
       "       'Shimmer Black', 'Shimmer Gold', 'Cyber Silver', 'Atlantic Blue',\n",
       "       'Oxygen Blue', 'Metal Grey', 'Chromium White', 'Quetzal Cyan',\n",
       "       'Dynamic Gray', 'Matte Gold', 'Pearl White', 'Geek Blue',\n",
       "       'Metallic Purple', 'Deep Sea Blue', 'Cyber Rage', 'ice silver',\n",
       "       'Hyper Black', 'Nature Green', 'Ravan Black', '?Stardust Brown',\n",
       "       'CHARCOAL BLACK', 'Cyber Black', 'Obsidian', 'Snow', 'Lemongrass',\n",
       "       'Quick Silver', 'Emerald Green', 'Mirror Black',\n",
       "       'Moonlight Shadow', 'Racing Blue', 'Peppy Purple', 'Watery Grey',\n",
       "       'Azure Glow', 'Starry Glow', 'Memphis Green', 'Awesome Gray',\n",
       "       'Hazel', 'Tranquil Sea Blue', 'Magnet Black', 'Awesome Black',\n",
       "       'Dusk Blue', 'Sky Mirror', 'Deep Purple', 'Awesome Blue',\n",
       "       'Sea Green', 'Phantom Blue', 'Grey', 'Awesome Mint',\n",
       "       'Symphony Cyan', 'Iris Purple', 'Blade Silver', 'Luna White',\n",
       "       'Diamond Grey', 'Denim Blue', 'Miracle Black', 'Dark Green',\n",
       "       'Flame Red', 'Graphite Black', 'Mid day dream', 'Sunshine Gold',\n",
       "       'Phantom White', 'Sunburst Gold', 'Mithril Grey',\n",
       "       'Out of the Blue', 'Diamond Dazzle', 'Cosmos Black', 'Sky Blue',\n",
       "       'Urban Blue', 'Haze Green', 'Red', 'Mystic Blue', 'Awesome Peach',\n",
       "       'Tuscany Coral', 'Star blue', 'Hyper Blue', 'Glacier White',\n",
       "       'Predator Black', 'Matte black', 'Ice Blue', 'Solar Gold',\n",
       "       'Green and Greener', 'Steel Blue', 'Nitro Blue',\n",
       "       'Lightning Orange', 'Celestial Silver', 'Cloud Navy', 'Green Wave',\n",
       "       'Starlit Blue', 'Mostly Blue', 'Crystal Violet', 'Racing Silver',\n",
       "       'Topaz Blue', 'Atlantis Blue', 'Dynamo Black'], dtype=object)"
      ]
     },
     "execution_count": 62,
     "metadata": {},
     "output_type": "execute_result"
    }
   ],
   "source": [
    "df['Color'].unique()\n"
   ]
  },
  {
   "cell_type": "code",
   "execution_count": 63,
   "id": "26b8b548",
   "metadata": {},
   "outputs": [],
   "source": [
    "# Grouping the Colors into categories for simplicity\n",
    "\n",
    "# Define the group_colors() function\n",
    "def group_colors(color):\n",
    "    if \"blue\" in color.lower() or \"cyan\" in color.lower():\n",
    "        return \"Blue\"\n",
    "    elif \"green\" in color.lower():\n",
    "        return \"Green\"\n",
    "    elif \"black\" in color.lower() or \"charcoal\" in color.lower() or \"obsidian\" in color.lower():\n",
    "        return \"Black\"\n",
    "    elif \"yellow\" in color.lower() or \"gold\" in color.lower():\n",
    "        return \"Yellow\"\n",
    "    elif \"grey\" in color.lower():\n",
    "        return \"Grey\"\n",
    "    elif \"white\" in color.lower():\n",
    "        return \"White\"\n",
    "    elif \"orange\" in color.lower():\n",
    "        return \"Orange\"\n",
    "    elif \"silver\" in color.lower() or \"diamond\" in color.lower():\n",
    "        return \"Silver\"\n",
    "    elif \"red\" in color.lower() or \"pink\" in color.lower():\n",
    "        return \"Red\"\n",
    "    elif \"brown\" in color.lower():\n",
    "        return \"Brown\"\n",
    "    else:\n",
    "        return \"Other\""
   ]
  },
  {
   "cell_type": "code",
   "execution_count": 64,
   "id": "ae6a1774",
   "metadata": {},
   "outputs": [],
   "source": [
    "# Apply the group_colors() function on the \"color\" column\n",
    "df[\"Color_Group\"] = df[\"Color\"].apply(group_colors)"
   ]
  },
  {
   "cell_type": "code",
   "execution_count": 65,
   "id": "a8886173",
   "metadata": {},
   "outputs": [],
   "source": [
    "# Dropping the Color column as it is not required\n",
    "df.drop(\"Color\",axis=1,inplace=True)"
   ]
  },
  {
   "cell_type": "code",
   "execution_count": 66,
   "id": "ae46fdd5",
   "metadata": {},
   "outputs": [
    {
     "data": {
      "text/plain": [
       "array(['Blue', 'Green', 'Black', 'Other', 'White', 'Yellow', 'Orange',\n",
       "       'Grey', 'Silver', 'Red', 'Brown'], dtype=object)"
      ]
     },
     "execution_count": 66,
     "metadata": {},
     "output_type": "execute_result"
    }
   ],
   "source": [
    "df[\"Color_Group\"].unique()"
   ]
  },
  {
   "cell_type": "code",
   "execution_count": 67,
   "id": "c712ee29",
   "metadata": {},
   "outputs": [
    {
     "data": {
      "text/plain": [
       "Color_Group\n",
       "Blue      175\n",
       "Black     173\n",
       "Other     100\n",
       "Green      71\n",
       "White      36\n",
       "Yellow     36\n",
       "Grey       23\n",
       "Silver     22\n",
       "Red        11\n",
       "Orange      9\n",
       "Brown       5\n",
       "Name: count, dtype: int64"
      ]
     },
     "execution_count": 67,
     "metadata": {},
     "output_type": "execute_result"
    }
   ],
   "source": [
    "df[\"Color_Group\"].value_counts()"
   ]
  },
  {
   "cell_type": "markdown",
   "id": "19b30726",
   "metadata": {},
   "source": [
    "* **Analysing the Model Column**"
   ]
  },
  {
   "cell_type": "code",
   "execution_count": 68,
   "id": "beda1c15",
   "metadata": {},
   "outputs": [
    {
     "data": {
      "text/plain": [
       "array(['SAMSUNG Galaxy F13 ', 'POCO C50 ', 'REDMI 10 ',\n",
       "       'Infinix HOT 20 Play ', 'APPLE iPhone 14 ',\n",
       "       'SAMSUNG Galaxy F23 5G ', 'APPLE iPhone 11 ', 'POCO M4 Pro 5G ',\n",
       "       'MOTOROLA g52 ', 'MOTOROLA g31 ', 'MOTOROLA e13 ',\n",
       "       'Infinix Hot 12 ', 'Infinix NOTE 12i ', 'POCO X4 Pro 5G ',\n",
       "       'POCO M4 5G ', 'MOTOROLA G62 5G ', 'Infinix Smart 6 HD ',\n",
       "       'Infinix SMART 7 ', 'MOTOROLA G32 ', 'MOTOROLA g22 ',\n",
       "       'SAMSUNG Galaxy F04 ', 'MOTOROLA e40 ', 'APPLE iPhone 13 ',\n",
       "       'vivo T1 44W ', 'Google Pixel 6a ', 'realme C35 ',\n",
       "       'Realme C30 - Locked with Airtel Prepaid ', 'Infinix Hot 12 Pro ',\n",
       "       'vivo T1X ', 'SAMSUNG Galaxy M33 5G ', 'REDMI Note 10S ',\n",
       "       'POCO M4 Pro ', 'MOTOROLA g82 5G ', 'OPPO A17 ', 'POCO X5 Pro 5G ',\n",
       "       'MOTOROLA g72 ', 'OPPO A17k ', 'Infinix Hot 20 5G ', 'REDMI 10A ',\n",
       "       'POCO C31 ', 'realme C33 ', 'realme C30 ', 'vivo T1 Pro 5G ',\n",
       "       'REDMI 9i Sport ', 'REDMI A1 ', 'MOTOROLA e32 ',\n",
       "       'OnePlus Nord CE 2 Lite 5G ', 'realme 9i 5G ',\n",
       "       'SAMSUNG Galaxy M04 ', 'Infinix Zero 5G 2023 ', 'POCO C55 ',\n",
       "       'REDMI Note 11 ', 'realme Narzo 50 ', 'realme C30s ', 'vivo Y35 ',\n",
       "       'APPLE iPhone 14 Plus ', 'realme Narzo 50i Prime ',\n",
       "       'OPPO F19 Pro+ 5G ', 'realme C11 2021 ', 'Nothing Phone (1) ',\n",
       "       'vivo Y01 ', 'POCO M5 ', 'REDMI 10 Power ', 'Infinix HOT 20 5G ',\n",
       "       'Infinix Note 12 5G ', 'OPPO F19 ', 'REDMI 11 Prime 5G ',\n",
       "       'realme NARZO 50A PRIME ', 'vivo Y15s ', 'Micromax IN 2C ',\n",
       "       'vivo Y56 5G ', 'realme 10 ', 'vivo V27 Pro 5G ',\n",
       "       'SAMSUNG GALAXY M13 5G ', 'vivo Y16 ', 'realme 10 Pro+ 5G ',\n",
       "       'Infinix Note 12 Pro ', 'REDMI Note 12 Pro 5G ',\n",
       "       'Infinix Note 12 ', 'SAMSUNG Galaxy A03 Core ',\n",
       "       'Infinix Note 12 Pro 5G ', 'OPPO A77s ', 'vivo Y21 ',\n",
       "       'Tecno Pova 3 ', 'MOTOROLA edge 30 ', 'REDMI Note 11 SE ',\n",
       "       'MOTOROLA Edge 30 ', 'OPPO F19s ', 'OPPO K10 5G ',\n",
       "       'REDMI Note 12 Pro+ 5G ', 'SAMSUNG Galaxy A14 5G ', 'vivo Y02 ',\n",
       "       'OPPO Reno8T 5G ', 'realme 10 Pro 5G ', 'Tecno Camon 19 ',\n",
       "       'IQOO Z6 44W ', 'Infinix HOT 12 Play ', 'REDMI Note 12 5G ',\n",
       "       'IQOO Z6 Lite 5G (Without Charger) ',\n",
       "       'SAMSUNG Galaxy M32 Prime Edition ', 'Redmi 9A Sport ',\n",
       "       'vivo Y22 ', 'REDMI Note 11S ', 'I Kall Z19Pro ', 'itel Vision3 ',\n",
       "       'SAMSUNG Galaxy S23 5G ', 'realme C20 ', 'REDMI 9 Activ ',\n",
       "       'REDMI 10 Prime ', 'vivo T1 5G ', 'itel A23S ', 'REDMI K50i 5G ',\n",
       "       'SAMSUNG Galaxy A23 5G ', 'REDMI A1+ ', 'Infinix Smart 6 ',\n",
       "       'MOTOROLA G40 Fusion ', 'vivo Y75 ', 'OPPO F21 Pro ',\n",
       "       'POCO F4 5G ', 'vivo Y100 5G ', 'Motorola Edge 30 Pro ',\n",
       "       'Infinix Zero 5G 2023 TURBO ', 'Tecno Spark 9 ', 'vivo Y21T ',\n",
       "       'oppo A17K ', 'REDMI Note 10T 5G ', 'IQOO Neo 6 5G ', 'itel A49 ',\n",
       "       'SAMSUNG GALAXY M13 ', 'OPPO A78 5G ', 'Micromax IN 2B ',\n",
       "       'itel Vision 3 ', 'SAMSUNG Galaxy A04e ', 'Tecno Spark 8 Pro ',\n",
       "       'realme Narzo 50A Prime ', 'realme 9 Pro 5G ',\n",
       "       'SAMSUNG Galaxy S21 FE 5G ', 'vivo Y33T ', 'Infinix Zero 20 ',\n",
       "       'vivo Y21G ', 'APPLE iPhone 12 ', 'OPPO F21s Pro 5G ',\n",
       "       'realme Narzo 50i ', 'REDMI Note 9 ', 'Infinix Note 12 TURBO ',\n",
       "       'MOTOROLA G60 ', 'OPPO A55 ', 'MOTOROLA g82 5G', 'realme C31 ',\n",
       "       'OPPO A57 ', 'REDMI 9i ', 'OnePlus 10R ', 'realme 9 5G ',\n",
       "       'SAMSUNG Galaxy A13 ', 'realme C21 ',\n",
       "       'SAMSUNG Galaxy S23 Plus 5G ', 'REDMI Note 10 Pro ',\n",
       "       'realme 8 5G ', 'Micromax IN Note 1 ', 'MOTOROLA Edge 30 Fusion ',\n",
       "       'realme 8i ', 'realme 9i ', 'MOTOROLA g42 ', 'APPLE iPhone 14 (',\n",
       "       'MOTOROLA E7 Power ', 'LAVA Z1s ', 'Redmi 10 Prime ',\n",
       "       'REDMI Note 11T 5G ', 'Tecno POVA 4 ', 'SAMSUNG Galaxy A23 ',\n",
       "       'SAMSUNG Galaxy M32 ', 'Nokia C01 Plus ', 'Infinix Smart 5A ',\n",
       "       'OPPO K10 ', 'vivo Y21A ', 'Infinix Hot 11 ',\n",
       "       'APPLE iPhone 14 Plus (', 'REDMI 11 Prime ', 'SAMSUNG Galaxy A04 ',\n",
       "       'OPPO Reno8 5G ', 'realme 8 ', 'Redmi 9 ', 'Tecno Spark Go 2022 ',\n",
       "       'Tecno Spark 8 ', 'realme Narzo 50A ', 'realme C25_Y ',\n",
       "       'realme C21Y ', 'Redmi 7A ', 'Tecno Pova Neo ',\n",
       "       'realme narzo 50 5G ', 'Redmi 9A ', 'realme 9 Pro+ 5G ',\n",
       "       'REDMI 10A SPORT ', 'Google Pixel 7 ', 'realme 50A Prime ',\n",
       "       'REDMI K50i ', 'REDMI Note 11 Pro ', 'SAMSUNG Galaxy M53 5G ',\n",
       "       'realme Narzo 30 ', 'ASUS ROG 5s ', 'realme C25s ',\n",
       "       'realme 9 5G SE ', 'SAMSUNG Galaxy F22 ', 'SAMSUNG Galaxy A73 5G ',\n",
       "       'Google Pixel 7 Pro ', 'Infinix Smart 6 Plus ', 'Tecno Spark 8C ',\n",
       "       'SAMSUNG Galaxy A53 ', 'OPPO A16E ', 'vivo V21 5G ', 'vivo Y53s ',\n",
       "       'APPLE iPhone 14 Pro Max ', 'SAMSUNG Galaxy F12 ',\n",
       "       'SAMSUNG Galaxy Z Flip3 5G ', 'Infinix Note 11s ',\n",
       "       'OPPO F21s Pro ', 'realme Narzo 30 Pro 5G ', 'SAMSUNG Galaxy M13 ',\n",
       "       'realme GT Master Edition ', 'LAVA Z2 ', 'POCO X3 Pro ',\n",
       "       'vivo V23 Pro 5G ', 'APPLE iPhone 14 Pro ', 'realme 9 ',\n",
       "       'POCO M2 Pro ', 'SAMSUNG Galaxy A04s ', 'Tecno Pop 6 Pro ',\n",
       "       'Xiaomi 11Lite NE ', 'Infinix Hot 11 2022 ', 'vivo X80 ',\n",
       "       'POCO M3 Pro 5G ', 'itel Vision3 Turbo ',\n",
       "       'Infinix Note 11s Free Fire Edition ', 'Infinix Hot 11S ',\n",
       "       'vivo Y15c ', 'Infinix Note 11 ', 'SAMSUNG Galaxy A33 ',\n",
       "       'Mi 11 Lite ', 'Redmi Note 11S ', 'REDMI Note 10 lite ',\n",
       "       'POCO F3 GT 5G ', 'Tecno Pop 5 Pro ',\n",
       "       'realme GT Neo 3 (150W - Thor Limited Edition) ', 'realme 6 Pro ',\n",
       "       'Redmi Note 11 PRO Plus 5G ', 'Mi 11X Pro 5G ',\n",
       "       'SAMSUNG Galaxy S20 FE 5G ', 'POCO C3 ', 'POCO M2 Reloaded ',\n",
       "       'OPPO A12 ', 'Infinix Smart HD 2021 ', 'POCO X2 ',\n",
       "       'MOTOROLA Edge 30 Ultra ', 'IQOO Z6 5G ',\n",
       "       'SAMSUNG Galaxy S22 Plus 5G ', 'I Kall Z5 '], dtype=object)"
      ]
     },
     "execution_count": 68,
     "metadata": {},
     "output_type": "execute_result"
    }
   ],
   "source": [
    "df[\"Model\"].unique()"
   ]
  },
  {
   "cell_type": "code",
   "execution_count": 69,
   "id": "09f9b980",
   "metadata": {},
   "outputs": [],
   "source": [
    "# Define a lambda function to extract the first word safely\n",
    "extract_brand = lambda x : x.split()[0] if isinstance(x, str) else None\n",
    "\n",
    "# Apply the lambda function to extract the brand name from each product specification\n",
    "df['Brand'] = df['Model'].apply(extract_brand)"
   ]
  },
  {
   "cell_type": "code",
   "execution_count": 70,
   "id": "39045f91",
   "metadata": {},
   "outputs": [
    {
     "data": {
      "text/plain": [
       "array(['SAMSUNG', 'POCO', 'REDMI', 'Infinix', 'APPLE', 'MOTOROLA', 'vivo',\n",
       "       'Google', 'realme', 'Realme', 'OPPO', 'OnePlus', 'Nothing',\n",
       "       'Micromax', 'Tecno', 'IQOO', 'Redmi', 'I', 'itel', 'Motorola',\n",
       "       'oppo', 'LAVA', 'Nokia', 'ASUS', 'Xiaomi', 'Mi'], dtype=object)"
      ]
     },
     "execution_count": 70,
     "metadata": {},
     "output_type": "execute_result"
    }
   ],
   "source": [
    "df['Brand'].unique()"
   ]
  },
  {
   "cell_type": "code",
   "execution_count": 71,
   "id": "a3bb20fc",
   "metadata": {},
   "outputs": [],
   "source": [
    "df['Brand'] = df['Brand']. replace('I', 'Infinix')"
   ]
  },
  {
   "cell_type": "code",
   "execution_count": 72,
   "id": "bc62154e",
   "metadata": {},
   "outputs": [
    {
     "data": {
      "text/plain": [
       "array(['SAMSUNG', 'POCO', 'REDMI', 'Infinix', 'APPLE', 'MOTOROLA', 'vivo',\n",
       "       'Google', 'realme', 'Realme', 'OPPO', 'OnePlus', 'Nothing',\n",
       "       'Micromax', 'Tecno', 'IQOO', 'Redmi', 'itel', 'Motorola', 'oppo',\n",
       "       'LAVA', 'Nokia', 'ASUS', 'Xiaomi', 'Mi'], dtype=object)"
      ]
     },
     "execution_count": 72,
     "metadata": {},
     "output_type": "execute_result"
    }
   ],
   "source": [
    "df['Brand'].unique()"
   ]
  },
  {
   "cell_type": "code",
   "execution_count": 73,
   "id": "f76c4893",
   "metadata": {},
   "outputs": [],
   "source": [
    "df = df.drop(columns = 'Model', axis = 1)"
   ]
  },
  {
   "cell_type": "code",
   "execution_count": 74,
   "id": "257d456a",
   "metadata": {},
   "outputs": [
    {
     "data": {
      "text/html": [
       "<div>\n",
       "<style scoped>\n",
       "    .dataframe tbody tr th:only-of-type {\n",
       "        vertical-align: middle;\n",
       "    }\n",
       "\n",
       "    .dataframe tbody tr th {\n",
       "        vertical-align: top;\n",
       "    }\n",
       "\n",
       "    .dataframe thead th {\n",
       "        text-align: right;\n",
       "    }\n",
       "</style>\n",
       "<table border=\"1\" class=\"dataframe\">\n",
       "  <thead>\n",
       "    <tr style=\"text-align: right;\">\n",
       "      <th></th>\n",
       "      <th>Stars</th>\n",
       "      <th>Ram</th>\n",
       "      <th>Storage</th>\n",
       "      <th>Expandable</th>\n",
       "      <th>Display</th>\n",
       "      <th>Price</th>\n",
       "      <th>Num_Ratings</th>\n",
       "      <th>Num_Reviews</th>\n",
       "      <th>RAM</th>\n",
       "      <th>Total_Cameras</th>\n",
       "      <th>Battery_Capacity</th>\n",
       "      <th>Processor_Brand</th>\n",
       "      <th>Color_Group</th>\n",
       "      <th>Brand</th>\n",
       "    </tr>\n",
       "  </thead>\n",
       "  <tbody>\n",
       "    <tr>\n",
       "      <th>0</th>\n",
       "      <td>4.4</td>\n",
       "      <td>4 GB RAM</td>\n",
       "      <td>64 GB ROM</td>\n",
       "      <td>Expandable Upto 1 TB</td>\n",
       "      <td>6.6</td>\n",
       "      <td>9699</td>\n",
       "      <td>126250</td>\n",
       "      <td>7344</td>\n",
       "      <td>4 GB RAM</td>\n",
       "      <td>4</td>\n",
       "      <td>6000.0</td>\n",
       "      <td>Exynos processor</td>\n",
       "      <td>Blue</td>\n",
       "      <td>SAMSUNG</td>\n",
       "    </tr>\n",
       "    <tr>\n",
       "      <th>1</th>\n",
       "      <td>4.4</td>\n",
       "      <td>2 GB RAM</td>\n",
       "      <td>32 GB ROM</td>\n",
       "      <td>Expandable Upto 512 GB</td>\n",
       "      <td>6.52</td>\n",
       "      <td>5749</td>\n",
       "      <td>3204</td>\n",
       "      <td>151</td>\n",
       "      <td>2 GB RAM</td>\n",
       "      <td>2</td>\n",
       "      <td>5000.0</td>\n",
       "      <td>Mediatek processor</td>\n",
       "      <td>Green</td>\n",
       "      <td>POCO</td>\n",
       "    </tr>\n",
       "    <tr>\n",
       "      <th>2</th>\n",
       "      <td>4.4</td>\n",
       "      <td>2 GB RAM</td>\n",
       "      <td>32 GB ROM</td>\n",
       "      <td>Expandable Upto 512 GB</td>\n",
       "      <td>6.52</td>\n",
       "      <td>5749</td>\n",
       "      <td>3204</td>\n",
       "      <td>151</td>\n",
       "      <td>2 GB RAM</td>\n",
       "      <td>2</td>\n",
       "      <td>5000.0</td>\n",
       "      <td>Mediatek processor</td>\n",
       "      <td>Blue</td>\n",
       "      <td>POCO</td>\n",
       "    </tr>\n",
       "    <tr>\n",
       "      <th>3</th>\n",
       "      <td>4.3</td>\n",
       "      <td>4 GB RAM</td>\n",
       "      <td>64 GB ROM</td>\n",
       "      <td>Expandable Upto 1 TB</td>\n",
       "      <td>6.7</td>\n",
       "      <td>9299</td>\n",
       "      <td>193536</td>\n",
       "      <td>12428</td>\n",
       "      <td>4 GB RAM</td>\n",
       "      <td>3</td>\n",
       "      <td>6000.0</td>\n",
       "      <td>Qualcomm processor</td>\n",
       "      <td>Green</td>\n",
       "      <td>REDMI</td>\n",
       "    </tr>\n",
       "    <tr>\n",
       "      <th>4</th>\n",
       "      <td>4.3</td>\n",
       "      <td>4 GB RAM</td>\n",
       "      <td>64 GB ROM</td>\n",
       "      <td>Expandable Upto 1 TB</td>\n",
       "      <td>6.7</td>\n",
       "      <td>9299</td>\n",
       "      <td>193536</td>\n",
       "      <td>12428</td>\n",
       "      <td>4 GB RAM</td>\n",
       "      <td>3</td>\n",
       "      <td>6000.0</td>\n",
       "      <td>Qualcomm processor</td>\n",
       "      <td>Blue</td>\n",
       "      <td>REDMI</td>\n",
       "    </tr>\n",
       "  </tbody>\n",
       "</table>\n",
       "</div>"
      ],
      "text/plain": [
       "   Stars        Ram    Storage              Expandable Display  Price  \\\n",
       "0    4.4  4 GB RAM   64 GB ROM    Expandable Upto 1 TB     6.6   9699   \n",
       "1    4.4  2 GB RAM   32 GB ROM  Expandable Upto 512 GB    6.52   5749   \n",
       "2    4.4  2 GB RAM   32 GB ROM  Expandable Upto 512 GB    6.52   5749   \n",
       "3    4.3  4 GB RAM   64 GB ROM    Expandable Upto 1 TB     6.7   9299   \n",
       "4    4.3  4 GB RAM   64 GB ROM    Expandable Upto 1 TB     6.7   9299   \n",
       "\n",
       "   Num_Ratings  Num_Reviews        RAM  Total_Cameras  Battery_Capacity  \\\n",
       "0       126250         7344  4 GB RAM               4            6000.0   \n",
       "1         3204          151  2 GB RAM               2            5000.0   \n",
       "2         3204          151  2 GB RAM               2            5000.0   \n",
       "3       193536        12428  4 GB RAM               3            6000.0   \n",
       "4       193536        12428  4 GB RAM               3            6000.0   \n",
       "\n",
       "      Processor_Brand Color_Group    Brand  \n",
       "0    Exynos processor        Blue  SAMSUNG  \n",
       "1  Mediatek processor       Green     POCO  \n",
       "2  Mediatek processor        Blue     POCO  \n",
       "3  Qualcomm processor       Green    REDMI  \n",
       "4  Qualcomm processor        Blue    REDMI  "
      ]
     },
     "execution_count": 74,
     "metadata": {},
     "output_type": "execute_result"
    }
   ],
   "source": [
    "df.head()"
   ]
  },
  {
   "cell_type": "code",
   "execution_count": 75,
   "id": "72f7ca57",
   "metadata": {},
   "outputs": [],
   "source": [
    "# Changing the order of the columns after making the changes\n",
    "\n",
    "df = df[[\"Brand\", 'Color_Group', 'Stars', 'Num_Ratings', 'Num_Reviews', 'RAM', 'Storage', 'Expandable', 'Processor_Brand', 'Display', 'Total_Cameras', 'Battery_Capacity', 'Price']]"
   ]
  },
  {
   "cell_type": "code",
   "execution_count": 76,
   "id": "22c3bc5e",
   "metadata": {},
   "outputs": [
    {
     "data": {
      "text/html": [
       "<div>\n",
       "<style scoped>\n",
       "    .dataframe tbody tr th:only-of-type {\n",
       "        vertical-align: middle;\n",
       "    }\n",
       "\n",
       "    .dataframe tbody tr th {\n",
       "        vertical-align: top;\n",
       "    }\n",
       "\n",
       "    .dataframe thead th {\n",
       "        text-align: right;\n",
       "    }\n",
       "</style>\n",
       "<table border=\"1\" class=\"dataframe\">\n",
       "  <thead>\n",
       "    <tr style=\"text-align: right;\">\n",
       "      <th></th>\n",
       "      <th>Brand</th>\n",
       "      <th>Color_Group</th>\n",
       "      <th>Stars</th>\n",
       "      <th>Num_Ratings</th>\n",
       "      <th>Num_Reviews</th>\n",
       "      <th>RAM</th>\n",
       "      <th>Storage</th>\n",
       "      <th>Expandable</th>\n",
       "      <th>Processor_Brand</th>\n",
       "      <th>Display</th>\n",
       "      <th>Total_Cameras</th>\n",
       "      <th>Battery_Capacity</th>\n",
       "      <th>Price</th>\n",
       "    </tr>\n",
       "  </thead>\n",
       "  <tbody>\n",
       "    <tr>\n",
       "      <th>0</th>\n",
       "      <td>SAMSUNG</td>\n",
       "      <td>Blue</td>\n",
       "      <td>4.4</td>\n",
       "      <td>126250</td>\n",
       "      <td>7344</td>\n",
       "      <td>4 GB RAM</td>\n",
       "      <td>64 GB ROM</td>\n",
       "      <td>Expandable Upto 1 TB</td>\n",
       "      <td>Exynos processor</td>\n",
       "      <td>6.6</td>\n",
       "      <td>4</td>\n",
       "      <td>6000.0</td>\n",
       "      <td>9699</td>\n",
       "    </tr>\n",
       "    <tr>\n",
       "      <th>1</th>\n",
       "      <td>POCO</td>\n",
       "      <td>Green</td>\n",
       "      <td>4.4</td>\n",
       "      <td>3204</td>\n",
       "      <td>151</td>\n",
       "      <td>2 GB RAM</td>\n",
       "      <td>32 GB ROM</td>\n",
       "      <td>Expandable Upto 512 GB</td>\n",
       "      <td>Mediatek processor</td>\n",
       "      <td>6.52</td>\n",
       "      <td>2</td>\n",
       "      <td>5000.0</td>\n",
       "      <td>5749</td>\n",
       "    </tr>\n",
       "    <tr>\n",
       "      <th>2</th>\n",
       "      <td>POCO</td>\n",
       "      <td>Blue</td>\n",
       "      <td>4.4</td>\n",
       "      <td>3204</td>\n",
       "      <td>151</td>\n",
       "      <td>2 GB RAM</td>\n",
       "      <td>32 GB ROM</td>\n",
       "      <td>Expandable Upto 512 GB</td>\n",
       "      <td>Mediatek processor</td>\n",
       "      <td>6.52</td>\n",
       "      <td>2</td>\n",
       "      <td>5000.0</td>\n",
       "      <td>5749</td>\n",
       "    </tr>\n",
       "    <tr>\n",
       "      <th>3</th>\n",
       "      <td>REDMI</td>\n",
       "      <td>Green</td>\n",
       "      <td>4.3</td>\n",
       "      <td>193536</td>\n",
       "      <td>12428</td>\n",
       "      <td>4 GB RAM</td>\n",
       "      <td>64 GB ROM</td>\n",
       "      <td>Expandable Upto 1 TB</td>\n",
       "      <td>Qualcomm processor</td>\n",
       "      <td>6.7</td>\n",
       "      <td>3</td>\n",
       "      <td>6000.0</td>\n",
       "      <td>9299</td>\n",
       "    </tr>\n",
       "    <tr>\n",
       "      <th>4</th>\n",
       "      <td>REDMI</td>\n",
       "      <td>Blue</td>\n",
       "      <td>4.3</td>\n",
       "      <td>193536</td>\n",
       "      <td>12428</td>\n",
       "      <td>4 GB RAM</td>\n",
       "      <td>64 GB ROM</td>\n",
       "      <td>Expandable Upto 1 TB</td>\n",
       "      <td>Qualcomm processor</td>\n",
       "      <td>6.7</td>\n",
       "      <td>3</td>\n",
       "      <td>6000.0</td>\n",
       "      <td>9299</td>\n",
       "    </tr>\n",
       "  </tbody>\n",
       "</table>\n",
       "</div>"
      ],
      "text/plain": [
       "     Brand Color_Group  Stars  Num_Ratings  Num_Reviews        RAM    Storage  \\\n",
       "0  SAMSUNG        Blue    4.4       126250         7344  4 GB RAM   64 GB ROM   \n",
       "1     POCO       Green    4.4         3204          151  2 GB RAM   32 GB ROM   \n",
       "2     POCO        Blue    4.4         3204          151  2 GB RAM   32 GB ROM   \n",
       "3    REDMI       Green    4.3       193536        12428  4 GB RAM   64 GB ROM   \n",
       "4    REDMI        Blue    4.3       193536        12428  4 GB RAM   64 GB ROM   \n",
       "\n",
       "               Expandable     Processor_Brand Display  Total_Cameras  \\\n",
       "0    Expandable Upto 1 TB    Exynos processor     6.6              4   \n",
       "1  Expandable Upto 512 GB  Mediatek processor    6.52              2   \n",
       "2  Expandable Upto 512 GB  Mediatek processor    6.52              2   \n",
       "3    Expandable Upto 1 TB  Qualcomm processor     6.7              3   \n",
       "4    Expandable Upto 1 TB  Qualcomm processor     6.7              3   \n",
       "\n",
       "   Battery_Capacity  Price  \n",
       "0            6000.0   9699  \n",
       "1            5000.0   5749  \n",
       "2            5000.0   5749  \n",
       "3            6000.0   9299  \n",
       "4            6000.0   9299  "
      ]
     },
     "execution_count": 76,
     "metadata": {},
     "output_type": "execute_result"
    }
   ],
   "source": [
    "df.head()"
   ]
  },
  {
   "cell_type": "code",
   "execution_count": null,
   "id": "7546a951",
   "metadata": {},
   "outputs": [],
   "source": []
  }
 ],
 "metadata": {
  "kernelspec": {
   "display_name": "Python 3 (ipykernel)",
   "language": "python",
   "name": "python3"
  },
  "language_info": {
   "codemirror_mode": {
    "name": "ipython",
    "version": 3
   },
   "file_extension": ".py",
   "mimetype": "text/x-python",
   "name": "python",
   "nbconvert_exporter": "python",
   "pygments_lexer": "ipython3",
   "version": "3.11.5"
  }
 },
 "nbformat": 4,
 "nbformat_minor": 5
}
